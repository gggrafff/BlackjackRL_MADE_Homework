{
 "cells": [
  {
   "cell_type": "markdown",
   "metadata": {},
   "source": [
    "Полезные ссылки:  \n",
    "ДЗ: https://docs.google.com/document/d/1DneunZ0i5-3jERFVu0-1Q_x0fhsa7TAbukb8sPTsNg4/  \n",
    "Окружение из gym: https://github.com/openai/gym/blob/38a1f630dc9815a567aaf299ae5844c8f8b9a6fa/gym/envs/toy_text/blackjack.py  \n",
    "Дополнительная информация:  \n",
    "Шпаргалка: https://github.com/udacity/deep-reinforcement-learning/blob/master/cheatsheet/cheatsheet.pdf  \n",
    "https://habr.com/ru/company/otus/blog/477042/  \n",
    "https://www.cs.ubc.ca/labs/lci/mlrg/slides/mlrg_MonteCarlo.pdf  \n"
   ]
  },
  {
   "cell_type": "markdown",
   "metadata": {},
   "source": [
    "# Advanced DL and RL: Домашнее задание 1\n",
    "Первое ДЗ связано с обучением с подкреплением, и оно придумано для ситуации, когда нейронные сети ещё не нужны, и пространство состояний в целом достаточно маленькое, чтобы можно было обучить хорошую стратегию методами TD-обучения или другими методами обучения с подкреплением. Задание получилось, надеюсь, интересное, но в том числе и достаточно техническое, так что для решения придётся немножко попрограммировать. Поэтому в качестве решения ожидается ссылка на jupyter-ноутбук на вашем github (или публичный, или с доступом для snikolenko); ссылку обязательно нужно прислать в виде сданного домашнего задания на портале Академии. Любые комментарии, новые идеи и рассуждения на тему, как всегда, категорически приветствуются."
   ]
  },
  {
   "cell_type": "markdown",
   "metadata": {},
   "source": [
    "## Часть первая, с блекджеком и стратегиями\n",
    "Мы будем обучаться играть в очень простую, но всё-таки знаменитую и популярную игру: блекджек. Правила блекджека достаточно просты; давайте начнём с самой базовой версии, которая реализована в OpenAI Gym:  \n",
    "* численные значения карт равны от 2 до 10 для карт от двойки до десятки, 10 для валетов, дам и королей;\n",
    "туз считается за 11 очков, если общая сумма карт на руке при этом не превосходит 21 (по-английски в этом случае говорят, что на руке есть usable ace), и за 1 очко, если превосходит;  \n",
    "* игроку раздаются две карты, дилеру — одна в открытую и одна в закрытую;  \n",
    "* игрок может совершать одно из двух действий:  \n",
    "    * hit  — взять ещё одну карту;  \n",
    "    * stand — не брать больше карт;  \n",
    "* если сумма очков у игрока на руках больше 21, он проигрывает (bust);  \n",
    "* если игрок выбирает stand с суммой не больше 21, дилер добирает карты, пока сумма карт в его руке меньше 17;  \n",
    "* после этого игрок выигрывает, если дилер либо превышает 21, либо получает сумму очков меньше, чем сумма очков у игрока; при равенстве очков объявляется ничья (ставка возвращается);  \n",
    "* в исходных правилах есть ещё дополнительный бонус за natural blackjack: если игрок набирает 21 очко с раздачи, двумя картами, он выигрывает не +1, а +1.5 (полторы ставки).  \n",
    "Именно этот простейший вариант блекджека реализован в OpenAI Gym:  \n",
    "https://github.com/openai/gym/blob/38a1f630dc9815a567aaf299ae5844c8f8b9a6fa/gym/envs/toy_text/blackjack.py"
   ]
  },
  {
   "cell_type": "code",
   "execution_count": 1,
   "metadata": {},
   "outputs": [],
   "source": [
    "import sys\n",
    "import random\n",
    "from collections import defaultdict\n",
    "import statistics\n",
    "import copy\n",
    "\n",
    "import threading\n",
    "import multiprocessing\n",
    "\n",
    "import numpy as np\n",
    "\n",
    "import matplotlib as mpl\n",
    "import matplotlib.pyplot as plt\n",
    "from matplotlib.colors import LogNorm\n",
    "from matplotlib import rc\n",
    "rc('font',**{'family':'sans-serif'})\n",
    "rc('text', usetex=True)\n",
    "rc('text.latex',preamble=r'\\usepackage[utf8]{inputenc}')\n",
    "rc('text.latex',preamble=r'\\usepackage[russian]{babel}')\n",
    "rc('figure', **{'dpi': 300})\n",
    "%matplotlib inline\n",
    "\n",
    "import gym\n",
    "from gym import error, spaces, utils\n",
    "from gym.utils import seeding\n",
    "from gym.envs.registration import register, registry\n",
    "from gym.envs.toy_text.blackjack import *"
   ]
  },
  {
   "cell_type": "markdown",
   "metadata": {},
   "source": [
    "Реализуем функцию, производящую игру и запоминающую историю состояний, действий, вознаграждений за игру. Реализация универсальная (для разных стратегий, окружений, можно задать seed и напечать ход игры)."
   ]
  },
  {
   "cell_type": "code",
   "execution_count": 56,
   "metadata": {},
   "outputs": [],
   "source": [
    "def play_blackjack(strategy, env=gym.make('Blackjack-v0', natural=True), verbose=False, seed=None, action_names=[\"Больше не берём.\", \"Берём карту.\"], *args, **kwargs): \n",
    "    \"\"\"Запускает игру для указанного окружения по выбранной стратегии. \n",
    "    Записывает и возвращает историю игры: состояния, действия, вознаграждения.\n",
    "    Можно напечать на экран ход игры.\n",
    "    \n",
    "    Аргументы:\n",
    "    strategy -- Стратегия игры.\n",
    "    env -- окружение для игры.\n",
    "    verbose -- Нужно ли печатать ход игры?\n",
    "    seed -- Начальное состояние генераторов случайных чисел для окружения.\n",
    "    action_names -- Названия действий для печати хода игры.\n",
    "    Остальные аргументы будут переданы в стратегию.\n",
    "    \"\"\"\n",
    "    states, actions, rewards = [], [], []  # В эти списки запишем историю игры.\n",
    "    if seed is not None:  # Инициализируем генератор случайных чисел в окружении.\n",
    "        env.seed(seed)\n",
    "        env.action_space.seed(seed)\n",
    "    initial = env.reset()  # Начинаем новую игру\n",
    "    if verbose: print(\"Начальная раздача: \", initial)\n",
    "    while True:\n",
    "        states.append(env._get_obs())\n",
    "        \n",
    "        action = strategy(env, *args, **kwargs)  # Выбираем действие в соответствии со стратегией.\n",
    "        actions.append(action)\n",
    "        if verbose:\n",
    "            print(action_names[action])\n",
    "        \n",
    "        new_state, reward, done, info = env.step(action)  # Делаем ход.\n",
    "        rewards.append(reward)\n",
    "        \n",
    "        if verbose: print(new_state, reward, done, info)\n",
    "        if done:  # Игра окончена\n",
    "            if verbose:\n",
    "                if reward > 0:\n",
    "                    print(\"Победа.\")\n",
    "                elif reward < 0:\n",
    "                    print(\"Поражение.\")\n",
    "                else:\n",
    "                    print(\"Ничья.\")\n",
    "            break\n",
    "    env.close()\n",
    "    return (states, actions, rewards)"
   ]
  },
  {
   "cell_type": "markdown",
   "metadata": {},
   "source": [
    "Реализуем стратегию случайной игры (равновероятно выбираем действие на каждом шаге)."
   ]
  },
  {
   "cell_type": "code",
   "execution_count": 3,
   "metadata": {},
   "outputs": [],
   "source": [
    "def random_strategy(env):\n",
    "    return env.action_space.sample()"
   ]
  },
  {
   "cell_type": "markdown",
   "metadata": {},
   "source": [
    "Проверим, как это работает:"
   ]
  },
  {
   "cell_type": "code",
   "execution_count": 4,
   "metadata": {
    "scrolled": true
   },
   "outputs": [
    {
     "name": "stdout",
     "output_type": "stream",
     "text": [
      "Начальная раздача:  (14, 4, False)\n",
      "Берём карту.\n",
      "(24, 4, False) -1.0 True {}\n",
      "Поражение.\n"
     ]
    },
    {
     "data": {
      "text/plain": [
       "([(14, 4, False)], [1], [-1.0])"
      ]
     },
     "execution_count": 4,
     "metadata": {},
     "output_type": "execute_result"
    }
   ],
   "source": [
    "play_blackjack(random_strategy, verbose=True)"
   ]
  },
  {
   "cell_type": "markdown",
   "metadata": {},
   "source": [
    "Проверим, как seed устанавливается, хотя нам это может не пригодиться далее:"
   ]
  },
  {
   "cell_type": "code",
   "execution_count": 5,
   "metadata": {},
   "outputs": [
    {
     "name": "stdout",
     "output_type": "stream",
     "text": [
      "Seed работает.\n"
     ]
    }
   ],
   "source": [
    "last = play_blackjack(random_strategy, verbose=False, seed=1)\n",
    "for i in range(10):\n",
    "    new = play_blackjack(random_strategy, verbose=False, seed=1)\n",
    "    if last != new:\n",
    "        print(\"Seed не работает.\")\n",
    "    last = new\n",
    "print(\"Seed работает.\")"
   ]
  },
  {
   "cell_type": "markdown",
   "metadata": {},
   "source": [
    "Рассмотрим очень простую стратегию: говорить stand, если у нас на руках комбинация в 19, 20 или 21 очко, во всех остальных случаях говорить hit. Используйте методы Монте-Карло, чтобы оценить выигрыш от этой стратегии."
   ]
  },
  {
   "cell_type": "code",
   "execution_count": 6,
   "metadata": {},
   "outputs": [],
   "source": [
    "def simple_strategy(env):\n",
    "    if env._get_obs()[0] >= 19:\n",
    "        return 0\n",
    "    else:\n",
    "        return 1"
   ]
  },
  {
   "cell_type": "code",
   "execution_count": 7,
   "metadata": {
    "scrolled": false
   },
   "outputs": [
    {
     "name": "stdout",
     "output_type": "stream",
     "text": [
      "Начальная раздача:  (20, 3, False)\n",
      "Больше не берём.\n",
      "(20, 3, False) 0.0 True {}\n",
      "Ничья.\n"
     ]
    },
    {
     "data": {
      "text/plain": [
       "([(20, 3, False)], [0], [0.0])"
      ]
     },
     "execution_count": 7,
     "metadata": {},
     "output_type": "execute_result"
    }
   ],
   "source": [
    "play_blackjack(simple_strategy, verbose=True)"
   ]
  },
  {
   "cell_type": "markdown",
   "metadata": {},
   "source": [
    "Оценим состояния игры с помощью First-visit MC prediction для данной стратегии.  \n",
    "По определению:  \n",
    "![MC](https://habrastorage.org/webt/u4/kd/o_/u4kdo_uc3dj64rihmdjhnyj1r7y.png)  \n",
    "Побыстрее:  \n",
    "![MC](https://miro.medium.com/max/337/1*-gWLzZ9hduVq-dfS9NsDLQ.png)  "
   ]
  },
  {
   "cell_type": "code",
   "execution_count": 8,
   "metadata": {},
   "outputs": [],
   "source": [
    "def first_visit_mc_prediction(strategy, env=gym.make('Blackjack-v0', natural=True), n_episodes=10000, gamma=0.8, seed=None):\n",
    "    \"\"\"Оценка состояний игры методом Монте Карло. Учитывается только первое посещение состояния.\n",
    "    Медленный вариант алгоритма по определению метода.\n",
    "    \n",
    "    Аргументы:\n",
    "    strategy -- Стратегия игры.\n",
    "    env -- окружение для игры.\n",
    "    n_episodes -- Количество игр.\n",
    "    gamma -- Коэффициент, с которым затухают вознаграждения при распространении в прошлое.\n",
    "    seed -- Начальное состояние генераторов случайных чисел для окружения.\n",
    "    \"\"\"\n",
    "    values = defaultdict(float)\n",
    "    returns = defaultdict(list)\n",
    "    \n",
    "    env.seed(seed)\n",
    "    env.action_space.seed(seed)\n",
    "    \n",
    "    for episode_no in range(n_episodes):\n",
    "        if (episode_no + 1) % 10000 == 0:\n",
    "            print(\"Episode {}/{}.\".format(episode_no + 1, n_episodes))\n",
    "            sys.stdout.flush()\n",
    "        states, _, rewards = play_blackjack(strategy, env)\n",
    "        G = 0.0\n",
    "        for t in range(len(states) - 1, -1, -1):\n",
    "            R = rewards[t]\n",
    "            G = gamma * G + R\n",
    "            S = states[t]\n",
    "            if S not in states[:t]:\n",
    "                returns[S].append(G)\n",
    "                values[S] = statistics.mean(returns[S])\n",
    "    return values"
   ]
  },
  {
   "cell_type": "code",
   "execution_count": 9,
   "metadata": {
    "scrolled": false
   },
   "outputs": [
    {
     "name": "stdout",
     "output_type": "stream",
     "text": [
      "Episode 10000/100000.\n",
      "Episode 20000/100000.\n",
      "Episode 30000/100000.\n",
      "Episode 40000/100000.\n",
      "Episode 50000/100000.\n",
      "Episode 60000/100000.\n",
      "Episode 70000/100000.\n",
      "Episode 80000/100000.\n",
      "Episode 90000/100000.\n",
      "Episode 100000/100000.\n",
      "[((20, 8, False), 0.8060941828254847), ((10, 8, False), 0.007525628140703517), ((8, 8, False), -0.3083034482758621), ((20, 10, False), 0.4219187675070028), ((21, 10, True), 1.2634947134112409), ((21, 8, False), 0.9206842923794712), ((13, 8, False), -0.4026965675057208), ((18, 10, False), -0.683950035352345), ((14, 10, False), -0.5315094105480869), ((15, 10, False), -0.5625662620757989)]\n",
      "-0.07484746166320207\n",
      "CPU times: user 1min 28s, sys: 79 ms, total: 1min 28s\n",
      "Wall time: 1min 28s\n"
     ]
    }
   ],
   "source": [
    "%%time\n",
    "values = first_visit_mc_prediction(simple_strategy, gym.make('Blackjack-v0', natural=True), n_episodes=100000)\n",
    "print(list(values.items())[0:10])\n",
    "print(statistics.mean(values.values()))"
   ]
  },
  {
   "cell_type": "markdown",
   "metadata": {},
   "source": [
    "Чтобы избежать хранения всех результатов в списке, мы можем выполнить процедуру обновления значения состояния в методе Монте-Карло постепенно, с помощью уравнения, которое имеет некоторое сходство с традиционным градиентным спуском:\n",
    "![opt](https://habrastorage.org/webt/lv/tm/nk/lvtmnki_ff4csblmytygnnxjn6u.png)\n",
    "\n",
    "Инкрементная процедура обновления Монте-Карло. S – это состояние, V – его значение, G – его результат, а alpha – параметр значения шага."
   ]
  },
  {
   "cell_type": "code",
   "execution_count": 10,
   "metadata": {},
   "outputs": [],
   "source": [
    "def first_visit_mc_prediction_fast(strategy, env=gym.make('Blackjack-v0', natural=True), n_episodes=10000, gamma=0.8, alpha=None, seed=None):\n",
    "    \"\"\"Оценка состояний игры методом Монте Карло. Учитывается только первое посещение состояния.\n",
    "    Быстрый вариант алгоритма с обновлением значения состояний по уравнению выше.\n",
    "    \n",
    "    Аргументы:\n",
    "    strategy -- Стратегия игры.\n",
    "    env -- окружение для игры.\n",
    "    n_episodes -- Количество игр.\n",
    "    gamma -- Коэффициент, с которым затухают вознаграждения при распространении в прошлое.\n",
    "    alpha -- Коэффициент, задающий скорость обновления значений состояний, но обычно он не задаётся и равен 1/количество_посещений_состояния.\n",
    "    seed -- Начальное состояние генераторов случайных чисел для окружения.\n",
    "    \"\"\"\n",
    "    values = defaultdict(float)\n",
    "    N = defaultdict(int)\n",
    "    \n",
    "    env.seed(seed)\n",
    "    env.action_space.seed(seed)\n",
    "    \n",
    "    for episode_no in range(n_episodes):\n",
    "        if (episode_no + 1) % 10000 == 0:\n",
    "            print(\"Episode {}/{}.\".format(episode_no + 1, n_episodes))\n",
    "            sys.stdout.flush()\n",
    "        states, _, rewards = play_blackjack(strategy, env)\n",
    "        G = 0.0\n",
    "        for t in range(len(states) - 1, -1, -1):\n",
    "            R = rewards[t]\n",
    "            G = gamma * G + R\n",
    "            S = states[t]\n",
    "            if S not in states[:t]:\n",
    "                N[S] += 1\n",
    "                if alpha is None:\n",
    "                    values[S] += (G - values[S]) / N[S]\n",
    "                else:\n",
    "                    values[S] += (G - values[S]) * alpha\n",
    "    return values"
   ]
  },
  {
   "cell_type": "code",
   "execution_count": 11,
   "metadata": {
    "scrolled": false
   },
   "outputs": [
    {
     "name": "stdout",
     "output_type": "stream",
     "text": [
      "Episode 10000/100000.\n",
      "Episode 20000/100000.\n",
      "Episode 30000/100000.\n",
      "Episode 40000/100000.\n",
      "Episode 50000/100000.\n",
      "Episode 60000/100000.\n",
      "Episode 70000/100000.\n",
      "Episode 80000/100000.\n",
      "Episode 90000/100000.\n",
      "Episode 100000/100000.\n",
      "[((21, 10, False), 0.8882331243083718), ((15, 10, False), -0.5724229119354042), ((12, 3, False), -0.34093317702227444), ((18, 9, False), -0.649724770642203), ((14, 9, False), -0.4374444889779561), ((14, 2, False), -0.48228810020876794), ((18, 10, False), -0.6768585411326016), ((21, 6, True), 1.2499999999999987), ((21, 7, True), 1.3159448818897634), ((19, 10, False), -0.013304822998336954)]\n",
      "-0.07733248912464968\n",
      "CPU times: user 6.63 s, sys: 4.01 ms, total: 6.64 s\n",
      "Wall time: 6.63 s\n"
     ]
    }
   ],
   "source": [
    "%%time\n",
    "values = first_visit_mc_prediction_fast(simple_strategy, gym.make('Blackjack-v0', natural=True), n_episodes=100000)\n",
    "print(list(values.items())[0:10])\n",
    "print(statistics.mean(values.values()))"
   ]
  },
  {
   "cell_type": "markdown",
   "metadata": {},
   "source": [
    "Попробуем распараллелить код на CPU."
   ]
  },
  {
   "cell_type": "code",
   "execution_count": 12,
   "metadata": {},
   "outputs": [],
   "source": [
    "def first_visit_mc_prediction_block(strategy, env, n_episodes, gamma, alpha, mutex, values, N): \n",
    "    for episode_no in range(n_episodes):\n",
    "        states, _, rewards = play_blackjack(strategy, env)\n",
    "        G = 0.0\n",
    "        for t in range(len(states) - 1, -1, -1):\n",
    "            R = rewards[t]\n",
    "            G = gamma * G + R\n",
    "            S = states[t]\n",
    "            if S not in states[:t]:\n",
    "                mutex.acquire()\n",
    "                N[S] += 1\n",
    "                if alpha is None:\n",
    "                    values[S] += (G - values[S]) / N[S]\n",
    "                else:\n",
    "                    values[S] += (G - values[S]) * alpha\n",
    "                mutex.release()\n",
    "\n",
    "def first_visit_mc_prediction_fast_threading(strategy, env=gym.make('Blackjack-v0', natural=True), n_episodes=10000, gamma=0.8, alpha=None):\n",
    "    \"\"\"Оценка состояний игры методом Монте Карло. Учитывается только первое посещение состояния.\n",
    "    Быстрый вариант алгоритма с обновлением значения состояний по уравнению выше. \n",
    "    Многопоточная реализация.\n",
    "    \n",
    "    Аргументы:\n",
    "    strategy -- Стратегия игры.\n",
    "    env -- окружение для игры.\n",
    "    n_episodes -- Количество игр.\n",
    "    gamma -- Коэффициент, с которым затухают вознаграждения при распространении в прошлое.\n",
    "    alpha -- Коэффициент, задающий скорость обновления значений состояний, но обычно он не задаётся и равен 1/количество_посещений_состояния.\n",
    "    \"\"\"\n",
    "    values = defaultdict(float)\n",
    "    N = defaultdict(int)\n",
    "    \n",
    "    nthreads = multiprocessing.cpu_count()\n",
    "    block_size = n_episodes // nthreads\n",
    "    threads = []\n",
    "    mutex = threading.Lock()\n",
    "    for i in range(nthreads):\n",
    "        thread = threading.Thread(target=first_visit_mc_prediction_block,\n",
    "            args=(strategy, copy.copy(env), block_size, gamma, alpha, mutex, values, N),\n",
    "            kwargs=None,\n",
    "        )\n",
    "        thread.start()\n",
    "        threads.append(thread)\n",
    "    for i in range(nthreads):\n",
    "        threads[i].join()\n",
    "    return values"
   ]
  },
  {
   "cell_type": "code",
   "execution_count": 13,
   "metadata": {
    "scrolled": true
   },
   "outputs": [
    {
     "name": "stdout",
     "output_type": "stream",
     "text": [
      "[((18, 10, False), -0.6999281781182646), ((12, 10, False), -0.4420556086461887), ((20, 7, False), 0.7745302713987477), ((15, 7, False), -0.5123640124095139), ((13, 7, False), -0.3940603448275864), ((15, 3, False), -0.5213077699293647), ((10, 3, False), 0.04135120643431642), ((21, 8, True), 1.3306636155606413), ((21, 7, True), 1.2957446808510642), ((21, 2, False), 0.8816568047337281)]\n",
      "-0.0723772891567118\n",
      "CPU times: user 36.9 s, sys: 4.07 s, total: 41 s\n",
      "Wall time: 34 s\n"
     ]
    }
   ],
   "source": [
    "%%time\n",
    "values = first_visit_mc_prediction_fast_threading(simple_strategy, gym.make('Blackjack-v0', natural=True), n_episodes=100000)\n",
    "print(list(values.items())[0:10])\n",
    "print(statistics.mean(values.values()))"
   ]
  },
  {
   "cell_type": "markdown",
   "metadata": {},
   "source": [
    "Видим, что в данной задаче затраты на управление потоками не окупают себя, будем пользоваться однопоточной реализацией."
   ]
  },
  {
   "cell_type": "markdown",
   "metadata": {},
   "source": [
    "Оценим средний выигрыш при данной стратегии:"
   ]
  },
  {
   "cell_type": "code",
   "execution_count": 14,
   "metadata": {},
   "outputs": [],
   "source": [
    "def average_reward(strategy, env=gym.make('Blackjack-v0', natural=True), n_episodes=10000, verbose=True, play_function=play_blackjack, *args, **kwargs):\n",
    "    \"\"\"Оценка среднего выигрыша при заданной стратегии по большому количеству партий.\n",
    "    \n",
    "    Аргументы:\n",
    "    strategy -- Стратегия игры.\n",
    "    env -- окружение для игры.\n",
    "    n_episodes -- Количество игр.\n",
    "    verbose -- Нужно ли печатать прогресс вычисления на экран?\n",
    "    play_function -- Функция, которая запускает игру и возвращает массивы состояний, действий, вознаграждений.\n",
    "    Остальные аргументы будут переданы в play_function без изменений.\n",
    "    \"\"\"\n",
    "    rewards = 0\n",
    "    for episode_no in range(n_episodes):\n",
    "        if verbose and (episode_no + 1) % (n_episodes // 10) == 0:\n",
    "            print(\"Episode {}/{}.\".format(episode_no + 1, n_episodes))\n",
    "            sys.stdout.flush()\n",
    "        rewards += play_function(strategy=strategy, env=env, verbose=False, *args, **kwargs)[-1][-1]\n",
    "    return rewards / n_episodes"
   ]
  },
  {
   "cell_type": "markdown",
   "metadata": {},
   "source": [
    "Проверим, как работает подсчёт среднего выигрыша на разных стратегиях. Стратегия выбора случайного действия:"
   ]
  },
  {
   "cell_type": "code",
   "execution_count": 15,
   "metadata": {},
   "outputs": [
    {
     "name": "stdout",
     "output_type": "stream",
     "text": [
      "Episode 10000/100000.\n",
      "Episode 20000/100000.\n",
      "Episode 30000/100000.\n",
      "Episode 40000/100000.\n",
      "Episode 50000/100000.\n",
      "Episode 60000/100000.\n",
      "Episode 70000/100000.\n",
      "Episode 80000/100000.\n",
      "Episode 90000/100000.\n",
      "Episode 100000/100000.\n",
      "-0.386235\n",
      "CPU times: user 6.7 s, sys: 0 ns, total: 6.7 s\n",
      "Wall time: 6.7 s\n"
     ]
    }
   ],
   "source": [
    "%%time\n",
    "print(average_reward(random_strategy, n_episodes=100000))"
   ]
  },
  {
   "cell_type": "markdown",
   "metadata": {},
   "source": [
    "Простая стратегия, описанная выше:"
   ]
  },
  {
   "cell_type": "code",
   "execution_count": 16,
   "metadata": {
    "scrolled": true
   },
   "outputs": [
    {
     "name": "stdout",
     "output_type": "stream",
     "text": [
      "Episode 10000/100000.\n",
      "Episode 20000/100000.\n",
      "Episode 30000/100000.\n",
      "Episode 40000/100000.\n",
      "Episode 50000/100000.\n",
      "Episode 60000/100000.\n",
      "Episode 70000/100000.\n",
      "Episode 80000/100000.\n",
      "Episode 90000/100000.\n",
      "Episode 100000/100000.\n",
      "-0.18564\n",
      "CPU times: user 6.16 s, sys: 239 ms, total: 6.4 s\n",
      "Wall time: 6.42 s\n"
     ]
    }
   ],
   "source": [
    "%%time\n",
    "print(average_reward(simple_strategy, n_episodes=100000))"
   ]
  },
  {
   "cell_type": "markdown",
   "metadata": {},
   "source": [
    "Так же в интернете я нашёл такую стратегию игры:"
   ]
  },
  {
   "cell_type": "code",
   "execution_count": 17,
   "metadata": {},
   "outputs": [],
   "source": [
    "def normal_strategy(env):\n",
    "    \"\"\"\n",
    "    Returns appropriate action from a 2D array storing actions\n",
    "    Each row corresponds to player sum- from 2 to 21\n",
    "    Each column corresponds to dealer_up_card- from 1 to 10\n",
    "    \"\"\"\n",
    "    actions = [[1]*10]*10 # 2 to 11\n",
    "    actions.append([1]*2 + [0]*3 + [1]*5) #12\n",
    "    actions.extend([[0]*6 + [1]*4]*4) #13-16\n",
    "    actions.extend([[0]*10]*5) #17-21\n",
    "\n",
    "    state = env._get_obs()\n",
    "    return actions[state[0] - 2][state[1] - 2]"
   ]
  },
  {
   "cell_type": "code",
   "execution_count": 18,
   "metadata": {
    "scrolled": true
   },
   "outputs": [
    {
     "name": "stdout",
     "output_type": "stream",
     "text": [
      "Episode 10000/100000.\n",
      "Episode 20000/100000.\n",
      "Episode 30000/100000.\n",
      "Episode 40000/100000.\n",
      "Episode 50000/100000.\n",
      "Episode 60000/100000.\n",
      "Episode 70000/100000.\n",
      "Episode 80000/100000.\n",
      "Episode 90000/100000.\n",
      "Episode 100000/100000.\n",
      "-0.04847\n",
      "CPU times: user 6.36 s, sys: 24.9 ms, total: 6.39 s\n",
      "Wall time: 6.4 s\n"
     ]
    }
   ],
   "source": [
    "%%time\n",
    "print(average_reward(normal_strategy, n_episodes=100000))"
   ]
  },
  {
   "cell_type": "markdown",
   "metadata": {},
   "source": [
    "Реализуйте метод обучения с подкреплением без модели (можно Q-обучение, но рекомендую попробовать и другие, например Monte Carlo control) для обучения стратегии в блекджеке, используя окружение Blackjack-v0 из OpenAI Gym."
   ]
  },
  {
   "cell_type": "markdown",
   "metadata": {},
   "source": [
    "По определению:  \n",
    "![](https://habrastorage.org/webt/nf/b4/nw/nfb4nwijndtfex4ytwhdn2ujcyw.png)  \n",
    "Но так быстрее:  \n",
    "![](https://www.machinelearningmastery.ru/img/0-230134-328120.png)"
   ]
  },
  {
   "cell_type": "code",
   "execution_count": 121,
   "metadata": {},
   "outputs": [],
   "source": [
    "def eps_generator(eps_start=1.0, eps_min=0.01, decay=0.99999):\n",
    "    \"\"\"Генератор элементов убывающей геометрической прогрессии с ограничением значения минимального элемента.\n",
    "    \n",
    "    Аргументы:\n",
    "    eps_start -- Первый элемент последовательности.\n",
    "    eps_min -- Минимальное значение элементов.\n",
    "    decay -- Знаменатель прогрессии.\n",
    "    \"\"\"\n",
    "    epsilon = eps_start\n",
    "    yield epsilon\n",
    "    command = None\n",
    "    while True:\n",
    "        if command == \"restart\":  # Начать сначала\n",
    "            epsilon = eps_start\n",
    "            yield epsilon\n",
    "        else:\n",
    "            epsilon = max(epsilon*decay, eps_min)  # Новый член последовательности\n",
    "        command = (yield epsilon)\n",
    "        \n",
    "def eps_greedy_strategy(env, epsilon, Q):\n",
    "    \"\"\"Эпсилон-жадная стратегия.\n",
    "    С вероятностью эпсилон выбирает случайное действие, иначе - наиболее выгодное действие.\n",
    "    \n",
    "    Аргументы:\n",
    "    env -- Окружение.\n",
    "    epsilon -- Вероятность случайного действия.\n",
    "    Q -- Выгода от действий в каждом состоянии dict: key - state, value - list values of actions.\n",
    "    \"\"\"\n",
    "    state = env._get_obs()\n",
    "    if random.random() > epsilon:\n",
    "        return Q[state].argmax()\n",
    "    else:\n",
    "        return random.randint(0, env.action_space.n - 1)\n",
    "\n",
    "def mc_control(env=gym.make('Blackjack-v0', natural=True), n_episodes=10000, gamma=0.2, eps_gen=eps_generator(), verbose=True, play_function=play_blackjack):\n",
    "    \"\"\"First-visit MC Control.\n",
    "    Строит наиболее выгодную стратегию.\n",
    "    Медленная реализация.\n",
    "    \n",
    "    Аргументы:\n",
    "    env -- Окружение.\n",
    "    n_episodes -- Количество игр.\n",
    "    gamma -- Коэффициент, с которым затухают вознаграждения при распространении в прошлое.\n",
    "    eps_gen -- Генератор, изменяющий эпсилон для эпсилон-жадной стратегии в процессе обучения.\n",
    "    verbose -- Печатать ли на экран прогресс обучения?\n",
    "    \"\"\"\n",
    "    Q = defaultdict(lambda: np.zeros(env.action_space.n))\n",
    "    returns = defaultdict(list)\n",
    "    \n",
    "    for episode_no in range(n_episodes):\n",
    "        epsilon = next(eps_gen)\n",
    "        if verbose and (episode_no + 1) % (n_episodes // 10) == 0:\n",
    "            print(\"Episode {}/{}. Epsilon: {}.\".format(episode_no + 1, n_episodes, epsilon))\n",
    "            sys.stdout.flush()\n",
    "        states, actions, rewards = play_function(eps_greedy_strategy, env, Q=Q, epsilon=epsilon)\n",
    "        sa = list(zip(states, actions))\n",
    "        G = 0\n",
    "        for t in range(len(states) - 1, -1, -1):\n",
    "            state = states[t]\n",
    "            action = actions[t]\n",
    "            reward = rewards[t]\n",
    "            G = gamma * G + reward\n",
    "            if (state, action) not in sa[:t]:\n",
    "                returns[(state, action)].append(G)\n",
    "                Q[state][action] = statistics.mean(returns[(state, action)])\n",
    "    \n",
    "    best_policy = lambda env, Q: eps_greedy_strategy(env, 0, Q)\n",
    "    return best_policy, Q\n",
    "\n",
    "def mc_control_fast(env=gym.make('Blackjack-v0'), n_episodes=10000, gamma=0.2, eps_gen=eps_generator(), verbose=True, play_function=play_blackjack):\n",
    "    \"\"\"First-visit MC Control.\n",
    "    Строит наиболее выгодную стратегию.\n",
    "    Быстрая реализация.\n",
    "    \n",
    "    Аргументы:\n",
    "    env -- Окружение.\n",
    "    n_episodes -- Количество игр.\n",
    "    gamma -- Коэффициент, с которым затухают вознаграждения при распространении в прошлое.\n",
    "    eps_gen -- Генератор, изменяющий эпсилон для эпсилон-жадной стратегии в процессе обучения.\n",
    "    verbose -- Печатать ли на экран прогресс обучения?\n",
    "    \"\"\"\n",
    "    Q = defaultdict(lambda: np.zeros(env.action_space.n))\n",
    "    N = defaultdict(int)\n",
    "    \n",
    "    for episode_no in range(n_episodes):\n",
    "        epsilon = next(eps_gen)\n",
    "        if verbose and (episode_no + 1) % (n_episodes // 10) == 0:\n",
    "            print(\"Episode {}/{}. Epsilon: {}.\".format(episode_no + 1, n_episodes, epsilon))\n",
    "            sys.stdout.flush()\n",
    "        # try:\n",
    "        states, actions, rewards = play_function(strategy=eps_greedy_strategy, env=env, Q=Q, epsilon=epsilon)\n",
    "        # except Exception as e:\n",
    "        #     print(env._get_obs())\n",
    "        #     print(env.deck)\n",
    "        sa = list(zip(states, actions))\n",
    "        G = 0\n",
    "        for t in range(len(states) - 1, -1, -1):\n",
    "            state = states[t]\n",
    "            action = actions[t]\n",
    "            reward = rewards[t]\n",
    "            G = gamma * G + reward\n",
    "            if (state, action) not in sa[:t]:\n",
    "                N[(state, action)] += 1\n",
    "                Q[state][action] += (G - Q[state][action]) / N[(state, action)]\n",
    "    \n",
    "    best_policy = lambda env, Q: eps_greedy_strategy(env, 0, Q)\n",
    "    return best_policy, Q"
   ]
  },
  {
   "cell_type": "code",
   "execution_count": 22,
   "metadata": {
    "scrolled": true
   },
   "outputs": [],
   "source": [
    "# Можем проверить работу медленного алгоритма, но в этом нет необходимости:\n",
    "# %%time\n",
    "# best_policy, Q_for_best_policy = mc_control(n_episodes=1000000, verbose=False)\n",
    "# print(average_reward(best_policy, n_episodes=1000000, Q=Q_for_best_policy, verbose=False))"
   ]
  },
  {
   "cell_type": "code",
   "execution_count": 23,
   "metadata": {
    "scrolled": false
   },
   "outputs": [
    {
     "name": "stdout",
     "output_type": "stream",
     "text": [
      "Episode 100000/1000000. Epsilon: 0.6309602501516386.\n",
      "Episode 200000/1000000. Epsilon: 0.3981090039074759.\n",
      "Episode 300000/1000000. Epsilon: 0.25118979991863927.\n",
      "Episode 400000/1000000. Epsilon: 0.15849004911687575.\n",
      "Episode 500000/1000000. Epsilon: 0.10000046051712816.\n",
      "Episode 600000/1000000. Epsilon: 0.0630960250145623.\n",
      "Episode 700000/1000000. Epsilon: 0.039810900390368394.\n",
      "Episode 800000/1000000. Epsilon: 0.025118979991624307.\n",
      "Episode 900000/1000000. Epsilon: 0.01584900491153603.\n",
      "Episode 1000000/1000000. Epsilon: 0.01000004605161713.\n",
      "-0.031751\n",
      "CPU times: user 2min 28s, sys: 1.09 s, total: 2min 29s\n",
      "Wall time: 2min 26s\n"
     ]
    }
   ],
   "source": [
    "%%time\n",
    "n_episodes = 1000000\n",
    "best_policy, Q_for_best_policy = mc_control_fast(n_episodes=n_episodes, eps_gen=eps_generator(eps_start=1.0, eps_min=0.01, decay=0.01**(1/n_episodes)))\n",
    "print(average_reward(best_policy, n_episodes=n_episodes, Q=Q_for_best_policy, verbose=False))"
   ]
  },
  {
   "cell_type": "markdown",
   "metadata": {},
   "source": [
    "Посмотрим глазами на результат:"
   ]
  },
  {
   "cell_type": "code",
   "execution_count": 24,
   "metadata": {},
   "outputs": [
    {
     "data": {
      "text/plain": [
       "defaultdict(<function __main__.mc_control_fast.<locals>.<lambda>()>,\n",
       "            {(10, 6, False): array([-0.13151365,  0.04019116]),\n",
       "             (13, 10, False): array([-0.57734205, -0.40930099]),\n",
       "             (20, 7, False): array([ 0.76090842, -0.92820069]),\n",
       "             (15, 2, False): array([-0.2987823 , -0.53683666]),\n",
       "             (9, 4, False): array([-0.24610592,  0.0106543 ]),\n",
       "             (10, 9, False): array([-0.49019608,  0.00547975]),\n",
       "             (12, 1, False): array([-0.83461963, -0.34833578]),\n",
       "             (20, 2, False): array([ 0.63918287, -0.91926978]),\n",
       "             (21, 2, False): array([ 0.88242574, -1.        ]),\n",
       "             (21, 2, True): array([ 0.8847903 , -0.00890869]),\n",
       "             (14, 10, True): array([-0.59381898, -0.02746461]),\n",
       "             (15, 2, True): array([-0.04093567, -0.00288203]),\n",
       "             (14, 10, False): array([-0.56498532, -0.4759035 ]),\n",
       "             (15, 4, True): array([-0.24528302, -0.00078463]),\n",
       "             (19, 10, False): array([-0.02455305, -0.83662417]),\n",
       "             (15, 10, False): array([-0.58862367, -0.54528866]),\n",
       "             (19, 9, False): array([ 0.29299363, -0.81255102]),\n",
       "             (9, 9, False): array([-0.57728707, -0.02336232]),\n",
       "             (16, 7, False): array([-0.48184569, -0.61945824]),\n",
       "             (14, 7, False): array([-0.51125938, -0.44977916]),\n",
       "             (14, 1, False): array([-0.78555799, -0.49092119]),\n",
       "             (20, 10, False): array([ 0.43470117, -0.92203806]),\n",
       "             (12, 10, False): array([-0.58311484, -0.34085757]),\n",
       "             (8, 8, False): array([-0.53383459, -0.02668169]),\n",
       "             (16, 3, False): array([-0.25236295, -0.59850422]),\n",
       "             (12, 3, False): array([-0.25740197, -0.32785413]),\n",
       "             (14, 8, False): array([-0.4741433 , -0.45223485]),\n",
       "             (20, 4, False): array([ 0.66341106, -0.90374753]),\n",
       "             (16, 10, False): array([-0.57682834, -0.62279799]),\n",
       "             (16, 10, True): array([-0.53548387, -0.05023407]),\n",
       "             (19, 3, False): array([ 0.3963402, -0.8127451]),\n",
       "             (7, 5, False): array([-0.10204082, -0.01091534]),\n",
       "             (10, 4, False): array([-0.22469136,  0.02788441]),\n",
       "             (20, 5, True): array([ 0.65745455, -0.00736842]),\n",
       "             (18, 9, False): array([-0.19856429, -0.72439182]),\n",
       "             (18, 10, False): array([-0.24180773, -0.7564054 ]),\n",
       "             (19, 9, True): array([ 0.29929078, -0.03013953]),\n",
       "             (8, 1, False): array([-0.80392157, -0.07817797]),\n",
       "             (21, 5, False): array([ 0.90154799, -1.        ]),\n",
       "             (11, 5, False): array([-0.21518987,  0.04713653]),\n",
       "             (19, 6, False): array([ 0.51396091, -0.8496875 ]),\n",
       "             (20, 10, True): array([ 0.42832333, -0.0433265 ]),\n",
       "             (15, 3, False): array([-0.25424757, -0.54898327]),\n",
       "             (11, 3, False): array([-0.34075724,  0.03170557]),\n",
       "             (12, 7, False): array([-0.47039106, -0.31380752]),\n",
       "             (7, 10, False): array([-0.61390887, -0.07281473]),\n",
       "             (13, 5, True): array([-0.18      ,  0.02877846]),\n",
       "             (16, 9, False): array([-0.52787497, -0.63516399]),\n",
       "             (15, 9, False): array([-0.53544166, -0.52630618]),\n",
       "             (11, 9, False): array([-0.51861042,  0.00774824]),\n",
       "             (21, 1, True): array([ 0.63955459, -0.04387315]),\n",
       "             (20, 9, False): array([ 0.76365784, -0.91409836]),\n",
       "             (21, 9, True): array([ 0.93354183, -0.02292199]),\n",
       "             (9, 1, False): array([-0.73333333, -0.06583601]),\n",
       "             (19, 5, False): array([ 0.45230832, -0.84333849]),\n",
       "             (20, 3, False): array([ 0.6564951 , -0.91665099]),\n",
       "             (21, 10, False): array([ 0.88759919, -1.        ]),\n",
       "             (16, 8, False): array([-0.49389313, -0.62082155]),\n",
       "             (13, 8, False): array([-0.49944873, -0.37691979]),\n",
       "             (18, 5, False): array([ 0.21282099, -0.77281669]),\n",
       "             (18, 2, False): array([ 0.14546839, -0.74994286]),\n",
       "             (18, 3, False): array([ 0.12560476, -0.75257732]),\n",
       "             (15, 6, False): array([-0.14124638, -0.50545546]),\n",
       "             (15, 1, False): array([-0.7581187 , -0.55476359]),\n",
       "             (14, 4, False): array([-0.23478504, -0.42977556]),\n",
       "             (21, 10, True): array([ 0.88726001, -0.03059183]),\n",
       "             (14, 6, False): array([-0.15766383, -0.46896226]),\n",
       "             (18, 6, False): array([ 0.26441948, -0.75862069]),\n",
       "             (7, 6, False): array([-0.15555556, -0.0156496 ]),\n",
       "             (21, 4, False): array([ 0.88379397, -1.        ]),\n",
       "             (21, 4, True): array([ 0.88560209, -0.00676797]),\n",
       "             (18, 10, True): array([-0.23569024, -0.04571398]),\n",
       "             (8, 10, False): array([-0.61939616, -0.06293163]),\n",
       "             (20, 6, True): array([0.7318314 , 0.00416667]),\n",
       "             (19, 8, False): array([ 0.60163228, -0.81798116]),\n",
       "             (15, 8, False): array([-0.50460543, -0.53487089]),\n",
       "             (12, 8, False): array([-0.47519294, -0.31492446]),\n",
       "             (6, 8, False): array([-0.50617284, -0.05966082]),\n",
       "             (12, 4, False): array([-0.19788442, -0.31193826]),\n",
       "             (17, 4, False): array([-0.09054326, -0.68263014]),\n",
       "             (14, 9, False): array([-0.54697286, -0.46638172]),\n",
       "             (10, 8, False): array([-0.46153846,  0.02157557]),\n",
       "             (15, 5, False): array([-0.18546958, -0.50440566]),\n",
       "             (11, 8, False): array([-0.55294118,  0.02509912]),\n",
       "             (17, 9, False): array([-0.42258788, -0.69664368]),\n",
       "             (12, 9, False): array([-0.51708428, -0.32540268]),\n",
       "             (17, 1, False): array([-0.64672205, -0.69120842]),\n",
       "             (15, 10, True): array([-0.57110609, -0.04040565]),\n",
       "             (16, 2, False): array([-0.29446335, -0.61026549]),\n",
       "             (21, 3, True): array([0.87427854, 0.00353527]),\n",
       "             (17, 10, False): array([-0.46707481, -0.68957702]),\n",
       "             (17, 10, True): array([-0.44554455, -0.0515742 ]),\n",
       "             (10, 2, False): array([-0.2      ,  0.0260702]),\n",
       "             (5, 3, False): array([-0.26530612, -0.03193932]),\n",
       "             (16, 4, False): array([-0.19956783, -0.60036129]),\n",
       "             (13, 4, False): array([-0.21660601, -0.41175546]),\n",
       "             (5, 1, False): array([-0.5308642 , -0.06434558]),\n",
       "             (20, 1, False): array([ 0.13785721, -0.92892562]),\n",
       "             (16, 7, True): array([-0.50769231, -0.0155014 ]),\n",
       "             (5, 7, False): array([-0.39130435, -0.04653049]),\n",
       "             (18, 2, True): array([0.1158147, 0.0003522]),\n",
       "             (7, 2, False): array([-0.25118483, -0.03519226]),\n",
       "             (13, 9, False): array([-0.58333333, -0.38838229]),\n",
       "             (19, 1, False): array([-0.10654702, -0.869383  ]),\n",
       "             (11, 10, False): array([-5.89884552e-01, -5.30312782e-04]),\n",
       "             (20, 8, True): array([0.77630611, 0.01357746]),\n",
       "             (15, 6, True): array([-0.03125   ,  0.01649679]),\n",
       "             (15, 7, False): array([-0.47225474, -0.53152466]),\n",
       "             (20, 6, False): array([ 0.69777557, -0.92444444]),\n",
       "             (13, 6, False): array([-0.1716185 , -0.37679363]),\n",
       "             (9, 10, False): array([-0.57175748, -0.047948  ]),\n",
       "             (11, 1, False): array([-0.77358491, -0.0268439 ]),\n",
       "             (8, 2, False): array([-0.19469027, -0.01711653]),\n",
       "             (8, 9, False): array([-0.58052434, -0.05861994]),\n",
       "             (16, 6, False): array([-0.15316983, -0.57702668]),\n",
       "             (10, 10, False): array([-0.60327456, -0.01788969]),\n",
       "             (6, 10, False): array([-0.59589041, -0.07164966]),\n",
       "             (12, 10, True): array([-0.61904762, -0.01247524]),\n",
       "             (13, 10, True): array([-0.60881543, -0.02155723]),\n",
       "             (15, 4, False): array([-0.20702376, -0.54729   ]),\n",
       "             (5, 4, False): array([-0.04587156, -0.03391117]),\n",
       "             (19, 4, True): array([0.41071429, 0.01106918]),\n",
       "             (18, 4, True): array([ 0.18777293, -0.03906748]),\n",
       "             (18, 1, True): array([-0.3164557 , -0.06405422]),\n",
       "             (14, 3, False): array([-0.25369802, -0.48312285]),\n",
       "             (8, 3, False): array([-0.25090909, -0.01790407]),\n",
       "             (7, 1, False): array([-0.72115385, -0.08687111]),\n",
       "             (10, 1, False): array([-0.79634465, -0.04441191]),\n",
       "             (13, 2, False): array([-0.28622004, -0.40023121]),\n",
       "             (9, 2, False): array([-0.19526627, -0.0009687 ]),\n",
       "             (13, 7, False): array([-0.44680851, -0.37098684]),\n",
       "             (12, 6, False): array([-0.14570204, -0.29517483]),\n",
       "             (13, 6, True): array([-0.13131313,  0.02653897]),\n",
       "             (17, 6, True): array([0.02982732, 0.00710543]),\n",
       "             (21, 6, False): array([ 0.91205412, -1.        ]),\n",
       "             (16, 6, True): array([-0.36      ,  0.01664885]),\n",
       "             (6, 5, False): array([-0.18367347, -0.03302405]),\n",
       "             (17, 6, False): array([ 0.00379769, -0.69835801]),\n",
       "             (21, 6, True): array([0.90201202, 0.01149434]),\n",
       "             (14, 2, False): array([-0.30152566, -0.50915337]),\n",
       "             (12, 2, False): array([-0.2961096 , -0.33652838]),\n",
       "             (6, 4, False): array([-0.14649682, -0.02410323]),\n",
       "             (17, 2, True): array([-0.19852941, -0.0104953 ]),\n",
       "             (4, 7, False): array([-0.71428571, -0.03905258]),\n",
       "             (19, 2, False): array([ 0.38080559, -0.83685039]),\n",
       "             (19, 2, True): array([ 0.4146165 , -0.00514685]),\n",
       "             (17, 5, False): array([-0.03707382, -0.67267905]),\n",
       "             (11, 2, False): array([-0.22814499,  0.03253223]),\n",
       "             (17, 2, False): array([-0.15586319, -0.68625   ]),\n",
       "             (20, 5, False): array([ 0.67164362, -0.92143532]),\n",
       "             (13, 1, False): array([-0.76789588, -0.42085887]),\n",
       "             (14, 8, True): array([-0.56521739, -0.01406143]),\n",
       "             (19, 5, True): array([0.44410646, 0.01022485]),\n",
       "             (16, 5, False): array([-0.18792659, -0.6118617 ]),\n",
       "             (19, 7, False): array([ 0.60720945, -0.82604027]),\n",
       "             (9, 7, False): array([-0.44186047,  0.00682251]),\n",
       "             (20, 8, False): array([ 0.78599386, -0.91975631]),\n",
       "             (5, 10, False): array([-0.59313725, -0.06210715]),\n",
       "             (19, 10, True): array([-0.05861665, -0.03668999]),\n",
       "             (7, 8, False): array([-0.5308642 , -0.06128644]),\n",
       "             (21, 8, True): array([ 0.93206107, -0.01680374]),\n",
       "             (9, 8, False): array([-0.53709199,  0.00563651]),\n",
       "             (13, 5, False): array([-0.17016317, -0.3971068 ]),\n",
       "             (12, 5, False): array([-0.16767984, -0.3049681 ]),\n",
       "             (18, 4, False): array([ 0.16987356, -0.73379939]),\n",
       "             (11, 4, False): array([-0.25053533,  0.03533571]),\n",
       "             (7, 4, False): array([-0.27906977, -0.02294366]),\n",
       "             (10, 3, False): array([-0.25065963,  0.01979945]),\n",
       "             (9, 3, False): array([-0.32795699,  0.00360186]),\n",
       "             (4, 2, False): array([-0.20512821, -0.03750073]),\n",
       "             (7, 3, False): array([-0.2       , -0.03460288]),\n",
       "             (13, 3, False): array([-0.26354167, -0.39625475]),\n",
       "             (18, 1, False): array([-0.36275216, -0.76119658]),\n",
       "             (14, 5, True): array([-0.11111111,  0.01488575]),\n",
       "             (17, 8, False): array([-0.39651966, -0.68540163]),\n",
       "             (17, 9, True): array([-0.4609375 , -0.03605572]),\n",
       "             (19, 4, False): array([ 0.42682927, -0.82156352]),\n",
       "             (9, 6, False): array([-0.23376623,  0.02431432]),\n",
       "             (11, 7, False): array([-0.49213483,  0.03308642]),\n",
       "             (8, 5, False): array([-0.21509434, -0.00160071]),\n",
       "             (21, 7, True): array([0.92956656, 0.00376471]),\n",
       "             (18, 7, False): array([ 0.39524365, -0.75474083]),\n",
       "             (18, 7, True): array([ 0.37952271, -0.01941401]),\n",
       "             (13, 7, True): array([-0.57692308,  0.00574292]),\n",
       "             (13, 1, True): array([-0.78571429, -0.03179705]),\n",
       "             (17, 4, True): array([-0.19565217,  0.01232407]),\n",
       "             (14, 5, False): array([-0.18541374, -0.47311296]),\n",
       "             (18, 8, False): array([ 0.0981702 , -0.73179104]),\n",
       "             (12, 5, True): array([2.77555756e-17, 1.34093458e-02]),\n",
       "             (17, 3, False): array([-0.09891757, -0.67909887]),\n",
       "             (21, 5, True): array([0.8884177 , 0.01456897]),\n",
       "             (16, 2, True): array([-0.31782946, -0.01042511]),\n",
       "             (14, 4, True): array([-0.27536232,  0.00240363]),\n",
       "             (20, 4, True): array([ 6.61648746e-01, -1.53846154e-04]),\n",
       "             (21, 8, False): array([ 0.92140836, -1.        ]),\n",
       "             (6, 1, False): array([-0.75172414, -0.07484084]),\n",
       "             (17, 7, False): array([-0.10006789, -0.67652381]),\n",
       "             (21, 3, False): array([ 0.89133017, -1.        ]),\n",
       "             (21, 9, False): array([ 0.92986667, -1.        ]),\n",
       "             (10, 5, False): array([-0.18598383,  0.03750627]),\n",
       "             (13, 8, True): array([-0.51020408, -0.00459004]),\n",
       "             (20, 3, True): array([ 0.65985401, -0.03261905]),\n",
       "             (14, 3, True): array([-0.14782609,  0.00658727]),\n",
       "             (13, 4, True): array([-0.10679612,  0.02280091]),\n",
       "             (12, 7, True): array([-0.52      ,  0.01638728]),\n",
       "             (11, 6, False): array([-0.22222222,  0.04684451]),\n",
       "             (16, 1, False): array([-0.76680672, -0.62644044]),\n",
       "             (19, 8, True): array([0.62136628, 0.01179856]),\n",
       "             (20, 1, True): array([ 0.1486401 , -0.05611679]),\n",
       "             (21, 1, False): array([ 0.6442769, -1.       ]),\n",
       "             (8, 6, False): array([-0.19413919,  0.00670318]),\n",
       "             (20, 9, True): array([ 0.7487956 , -0.00313043]),\n",
       "             (19, 6, True): array([ 0.46965099, -0.00446259]),\n",
       "             (8, 4, False): array([-0.19834711, -0.00623323]),\n",
       "             (16, 8, True): array([-0.6       , -0.03173626]),\n",
       "             (20, 7, True): array([ 0.76216587, -0.01035583]),\n",
       "             (14, 1, True): array([-0.83157895, -0.04490375]),\n",
       "             (13, 3, True): array([-0.19607843,  0.00790281]),\n",
       "             (13, 2, True): array([-0.30769231,  0.00599573]),\n",
       "             (21, 7, False): array([ 0.92891761, -1.        ]),\n",
       "             (4, 9, False): array([-0.6744186 , -0.04652848]),\n",
       "             (14, 7, True): array([-0.36936937,  0.0040041 ]),\n",
       "             (6, 7, False): array([-0.47560976, -0.05320497]),\n",
       "             (6, 6, False): array([-0.33333333, -0.01945766]),\n",
       "             (18, 6, True): array([0.30831974, 0.03762963]),\n",
       "             (16, 4, True): array([-0.21621622,  0.00382577]),\n",
       "             (7, 7, False): array([-0.40611354, -0.03882618]),\n",
       "             (8, 7, False): array([-0.37391304, -0.00839642]),\n",
       "             (10, 7, False): array([-0.49484536,  0.02660018]),\n",
       "             (7, 9, False): array([-0.52884615, -0.06821408]),\n",
       "             (17, 7, True): array([-0.04347826, -0.00814981]),\n",
       "             (15, 7, True): array([-0.47445255, -0.01501514]),\n",
       "             (19, 7, True): array([0.64930016, 0.00261111]),\n",
       "             (4, 4, False): array([-0.35      , -0.03071487]),\n",
       "             (15, 1, True): array([-0.76190476, -0.05641739]),\n",
       "             (19, 1, True): array([-0.11673152, -0.04938388]),\n",
       "             (17, 1, True): array([-0.61666667, -0.07030146]),\n",
       "             (9, 5, False): array([-0.16981132,  0.01428028]),\n",
       "             (6, 2, False): array([-0.225     , -0.04062333]),\n",
       "             (5, 9, False): array([-0.60493827, -0.05590416]),\n",
       "             (14, 9, True): array([-0.42622951, -0.02415966]),\n",
       "             (18, 5, True): array([ 0.22077922, -0.01834586]),\n",
       "             (20, 2, True): array([ 0.64911032, -0.00968101]),\n",
       "             (6, 9, False): array([-0.4375    , -0.06244725]),\n",
       "             (15, 3, True): array([-0.2293578 ,  0.00118072]),\n",
       "             (15, 8, True): array([-0.46296296, -0.02094676]),\n",
       "             (18, 8, True): array([ 0.09090909, -0.03176371]),\n",
       "             (15, 5, True): array([-0.2173913,  0.0017614]),\n",
       "             (18, 3, True): array([0.13861386, 0.02307692]),\n",
       "             (16, 3, True): array([-0.152     , -0.00951897]),\n",
       "             (5, 5, False): array([-0.23255814, -0.01781295]),\n",
       "             (5, 6, False): array([-0.11320755, -0.0236942 ]),\n",
       "             (16, 5, True): array([-0.13636364,  0.00278552]),\n",
       "             (17, 3, True): array([-0.21935484,  0.00100579]),\n",
       "             (18, 9, True): array([-0.0530303 , -0.02450728]),\n",
       "             (5, 8, False): array([-0.3877551, -0.0581742]),\n",
       "             (14, 2, True): array([-0.44761905,  0.00613425]),\n",
       "             (15, 9, True): array([-0.46564885, -0.02865583]),\n",
       "             (17, 8, True): array([-0.38636364, -0.02899581]),\n",
       "             (13, 9, True): array([-0.52380952, -0.01386363]),\n",
       "             (14, 6, True): array([-0.06214689,  0.02284733]),\n",
       "             (6, 3, False): array([-0.2327044 , -0.03917703]),\n",
       "             (12, 3, True): array([-0.22727273,  0.00604759]),\n",
       "             (12, 2, True): array([-0.15151515,  0.0134073 ]),\n",
       "             (19, 3, True): array([ 0.4295628 , -0.02084507]),\n",
       "             (16, 9, True): array([-0.51260504, -0.03031395]),\n",
       "             (4, 10, False): array([-0.58095238, -0.04982336]),\n",
       "             (4, 5, False): array([-0.5      , -0.0254593]),\n",
       "             (16, 1, True): array([-0.712     , -0.06589064]),\n",
       "             (12, 9, True): array([-0.74468085,  0.01237844]),\n",
       "             (4, 3, False): array([-0.55      , -0.03528317]),\n",
       "             (12, 4, True): array([-0.09433962,  0.0165567 ]),\n",
       "             (5, 2, False): array([-0.23478261, -0.03772361]),\n",
       "             (12, 1, True): array([-0.80487805, -0.02335095]),\n",
       "             (17, 5, True): array([-0.06802721,  0.01584743]),\n",
       "             (4, 1, False): array([-0.68888889, -0.05919753]),\n",
       "             (12, 8, True): array([-0.46938776,  0.01569583]),\n",
       "             (4, 6, False): array([-0.10714286, -0.02549508]),\n",
       "             (12, 6, True): array([-3.46944695e-18,  4.09247002e-02]),\n",
       "             (4, 8, False): array([-0.63636364, -0.05224615])})"
      ]
     },
     "execution_count": 24,
     "metadata": {},
     "output_type": "execute_result"
    }
   ],
   "source": [
    "Q_for_best_policy"
   ]
  },
  {
   "cell_type": "markdown",
   "metadata": {},
   "source": [
    "Сколько выигрывает казино у вашей стратегии? Нарисуйте графики среднего дохода вашего метода (усреднённого по крайней мере по 100000 раздач, а лучше больше) по ходу обучения. Попробуйте подобрать оптимальные гиперпараметры."
   ]
  },
  {
   "cell_type": "code",
   "execution_count": 33,
   "metadata": {},
   "outputs": [],
   "source": [
    "def mc_control_plot(env=gym.make('Blackjack-v0', natural=True), n_episodes=10000, n_episodes_test=100000, gamma_begin=0.0, gamma_end=1.0, eps_gen=eps_generator(), verbose=True):\n",
    "    \"\"\"First-visit MC Control.\n",
    "    Строит наиболее выгодную стратегию и записывает изменение среднего выигрыша в процессе обучения.\n",
    "    Перебирает гамму (коэффициент, с которым затухают вознаграждения при распространении в прошлое).\n",
    "    \n",
    "    Аргументы:\n",
    "    env -- Окружение.\n",
    "    n_episodes -- Количество игр для обучения.\n",
    "    n_episodes_test -- Количество игр для подсчёта среднего выигрыша.\n",
    "    gamma_begin -- Левая граница диапазона для перебора коэффициента.\n",
    "    gamma_end -- Правая граница диапазона для перебора коэффициента.\n",
    "    eps_gen -- Генератор, изменяющий эпсилон для эпсилон-жадной стратегии в процессе обучения.\n",
    "    verbose -- Печатать ли на экран прогресс обучения?\n",
    "    \"\"\"\n",
    "    \n",
    "    all_rewards = []\n",
    "    gammas = np.linspace(gamma_begin, gamma_end, num=5)\n",
    "    for gamma in gammas:\n",
    "        Q = defaultdict(lambda: np.zeros(env.action_space.n))\n",
    "        N = defaultdict(int)\n",
    "        try:\n",
    "            eps_gen.send(\"restart\")\n",
    "        except Exception as e:\n",
    "            pass\n",
    "        rewards_gamma = []\n",
    "        for episode_no in range(n_episodes):\n",
    "            epsilon = next(eps_gen)\n",
    "            if (episode_no + 1) % (n_episodes // 10) == 0:\n",
    "                best_policy = lambda env, Q: eps_greedy_strategy(env, 0, Q)\n",
    "                rewards_gamma.append(average_reward(best_policy, env=env, n_episodes=n_episodes_test, Q=Q, verbose=False))\n",
    "                if verbose:\n",
    "                    print(\"Gamma: {}. Episode {}/{}. Epsilon: {}. Reward: {}.\".format(gamma, episode_no + 1, n_episodes, epsilon, rewards_gamma[-1]))\n",
    "                    sys.stdout.flush()\n",
    "            states, actions, rewards = play_blackjack(eps_greedy_strategy, env, Q=Q, epsilon=epsilon)\n",
    "            sa = list(zip(states, actions))\n",
    "            G = 0\n",
    "            for t in range(len(states) - 1, -1, -1):\n",
    "                state = states[t]\n",
    "                action = actions[t]\n",
    "                reward = rewards[t]\n",
    "                G = gamma * G + reward\n",
    "                if (state, action) not in sa[:t]:\n",
    "                    N[(state, action)] += 1\n",
    "                    Q[state][action] += (G - Q[state][action]) / N[(state, action)]\n",
    "        all_rewards.append(list(rewards_gamma))\n",
    "    return all_rewards"
   ]
  },
  {
   "cell_type": "markdown",
   "metadata": {},
   "source": [
    "Построим графики с маленьким количеством точек и малым количеством игр для обучения и проверки:"
   ]
  },
  {
   "cell_type": "code",
   "execution_count": 26,
   "metadata": {
    "scrolled": false
   },
   "outputs": [
    {
     "name": "stdout",
     "output_type": "stream",
     "text": [
      "Gamma: 0.0. Episode 10000/100000. Epsilon: 0.6309864018087341. Reward: -0.05099.\n",
      "Gamma: 0.0. Episode 20000/100000. Epsilon: 0.39812550448832373. Reward: -0.04216.\n",
      "Gamma: 0.0. Episode 30000/100000. Epsilon: 0.2512002110817752. Reward: -0.0295.\n",
      "Gamma: 0.0. Episode 40000/100000. Epsilon: 0.15849661811701005. Reward: -0.03095.\n",
      "Gamma: 0.0. Episode 50000/100000. Epsilon: 0.10000460527619258. Reward: -0.03106.\n",
      "Gamma: 0.0. Episode 60000/100000. Epsilon: 0.06309864018085258. Reward: -0.03425.\n",
      "Gamma: 0.0. Episode 70000/100000. Epsilon: 0.03981255044881961. Reward: -0.030435.\n",
      "Gamma: 0.0. Episode 80000/100000. Epsilon: 0.02512002110816935. Reward: -0.027365.\n",
      "Gamma: 0.0. Episode 90000/100000. Epsilon: 0.015849661811695913. Reward: -0.032205.\n",
      "Gamma: 0.0. Episode 100000/100000. Epsilon: 0.010000460527616143. Reward: -0.03428.\n",
      "Gamma: 0.25. Episode 10000/100000. Epsilon: 0.6309864018087341. Reward: -0.05675.\n",
      "Gamma: 0.25. Episode 20000/100000. Epsilon: 0.39812550448832373. Reward: -0.039405.\n",
      "Gamma: 0.25. Episode 30000/100000. Epsilon: 0.2512002110817752. Reward: -0.03992.\n",
      "Gamma: 0.25. Episode 40000/100000. Epsilon: 0.15849661811701005. Reward: -0.046165.\n",
      "Gamma: 0.25. Episode 50000/100000. Epsilon: 0.10000460527619258. Reward: -0.03975.\n",
      "Gamma: 0.25. Episode 60000/100000. Epsilon: 0.06309864018085258. Reward: -0.03286.\n",
      "Gamma: 0.25. Episode 70000/100000. Epsilon: 0.03981255044881961. Reward: -0.035545.\n",
      "Gamma: 0.25. Episode 80000/100000. Epsilon: 0.02512002110816935. Reward: -0.038025.\n",
      "Gamma: 0.25. Episode 90000/100000. Epsilon: 0.015849661811695913. Reward: -0.03601.\n",
      "Gamma: 0.25. Episode 100000/100000. Epsilon: 0.010000460527616143. Reward: -0.031885.\n",
      "Gamma: 0.5. Episode 10000/100000. Epsilon: 0.6309864018087341. Reward: -0.05383.\n",
      "Gamma: 0.5. Episode 20000/100000. Epsilon: 0.39812550448832373. Reward: -0.052155.\n",
      "Gamma: 0.5. Episode 30000/100000. Epsilon: 0.2512002110817752. Reward: -0.047625.\n",
      "Gamma: 0.5. Episode 40000/100000. Epsilon: 0.15849661811701005. Reward: -0.04519.\n",
      "Gamma: 0.5. Episode 50000/100000. Epsilon: 0.10000460527619258. Reward: -0.04308.\n",
      "Gamma: 0.5. Episode 60000/100000. Epsilon: 0.06309864018085258. Reward: -0.04269.\n",
      "Gamma: 0.5. Episode 70000/100000. Epsilon: 0.03981255044881961. Reward: -0.0399.\n",
      "Gamma: 0.5. Episode 80000/100000. Epsilon: 0.02512002110816935. Reward: -0.035815.\n",
      "Gamma: 0.5. Episode 90000/100000. Epsilon: 0.015849661811695913. Reward: -0.028325.\n",
      "Gamma: 0.5. Episode 100000/100000. Epsilon: 0.010000460527616143. Reward: -0.030905.\n",
      "Gamma: 0.75. Episode 10000/100000. Epsilon: 0.6309864018087341. Reward: -0.06792.\n",
      "Gamma: 0.75. Episode 20000/100000. Epsilon: 0.39812550448832373. Reward: -0.050875.\n",
      "Gamma: 0.75. Episode 30000/100000. Epsilon: 0.2512002110817752. Reward: -0.04759.\n",
      "Gamma: 0.75. Episode 40000/100000. Epsilon: 0.15849661811701005. Reward: -0.045655.\n",
      "Gamma: 0.75. Episode 50000/100000. Epsilon: 0.10000460527619258. Reward: -0.040895.\n",
      "Gamma: 0.75. Episode 60000/100000. Epsilon: 0.06309864018085258. Reward: -0.040415.\n",
      "Gamma: 0.75. Episode 70000/100000. Epsilon: 0.03981255044881961. Reward: -0.04043.\n",
      "Gamma: 0.75. Episode 80000/100000. Epsilon: 0.02512002110816935. Reward: -0.04202.\n",
      "Gamma: 0.75. Episode 90000/100000. Epsilon: 0.015849661811695913. Reward: -0.041325.\n",
      "Gamma: 0.75. Episode 100000/100000. Epsilon: 0.010000460527616143. Reward: -0.03769.\n",
      "Gamma: 1.0. Episode 10000/100000. Epsilon: 0.6309864018087341. Reward: -0.07873.\n",
      "Gamma: 1.0. Episode 20000/100000. Epsilon: 0.39812550448832373. Reward: -0.06813.\n",
      "Gamma: 1.0. Episode 30000/100000. Epsilon: 0.2512002110817752. Reward: -0.062315.\n",
      "Gamma: 1.0. Episode 40000/100000. Epsilon: 0.15849661811701005. Reward: -0.06157.\n",
      "Gamma: 1.0. Episode 50000/100000. Epsilon: 0.10000460527619258. Reward: -0.05415.\n",
      "Gamma: 1.0. Episode 60000/100000. Epsilon: 0.06309864018085258. Reward: -0.051995.\n",
      "Gamma: 1.0. Episode 70000/100000. Epsilon: 0.03981255044881961. Reward: -0.05432.\n",
      "Gamma: 1.0. Episode 80000/100000. Epsilon: 0.02512002110816935. Reward: -0.0535.\n",
      "Gamma: 1.0. Episode 90000/100000. Epsilon: 0.015849661811695913. Reward: -0.04326.\n",
      "Gamma: 1.0. Episode 100000/100000. Epsilon: 0.010000460527616143. Reward: -0.049845.\n"
     ]
    },
    {
     "data": {
      "image/png": "[encoded data removed]",
      "text/plain": [
       "<Figure size 576x432 with 1 Axes>"
      ]
     },
     "metadata": {
      "needs_background": "light"
     },
     "output_type": "display_data"
    }
   ],
   "source": [
    "gamma_begin = 0.0\n",
    "gamma_end = 1.0\n",
    "n_episodes = 100000\n",
    "rewards = mc_control_plot(n_episodes=n_episodes, n_episodes_test=n_episodes, gamma_begin=gamma_begin, gamma_end=gamma_end, eps_gen=eps_generator(eps_start=1.0, eps_min=0.01, decay=0.01**(1/n_episodes)))\n",
    "\n",
    "fig, ax = plt.subplots(1, figsize=(8, 6))\n",
    "fig.suptitle('Rewards', fontsize=15)\n",
    "for i in range(len(rewards)):\n",
    "    ax.plot(rewards[i], label=\"Gamma {:10.1f}\".format(gamma_begin + (gamma_end - gamma_begin) / 4 * i))\n",
    "plt.legend(loc=\"lower right\", title=\"Legend\", frameon=False)\n",
    "plt.show()"
   ]
  },
  {
   "cell_type": "markdown",
   "metadata": {},
   "source": [
    "Видим, что при маленьких значениях гаммы обучение быстрее, выигрыш выше. Построим графики с лучшим качеством и точностью для маленьких значений гаммы:"
   ]
  },
  {
   "cell_type": "code",
   "execution_count": 27,
   "metadata": {
    "scrolled": false
   },
   "outputs": [
    {
     "name": "stdout",
     "output_type": "stream",
     "text": [
      "Gamma: 0.0. Episode 30000/300000. Epsilon: 0.6309670301067631. Reward: -0.037086666666666664.\n",
      "Gamma: 0.0. Episode 60000/300000. Epsilon: 0.39811328177011907. Reward: -0.03233333333333333.\n",
      "Gamma: 0.0. Episode 90000/300000. Epsilon: 0.25119249906759356. Reward: -0.03464.\n",
      "Gamma: 0.0. Episode 120000/300000. Epsilon: 0.15849175216479358. Reward: -0.02683666666666667.\n",
      "Gamma: 0.0. Episode 150000/300000. Epsilon: 0.10000153506776062. Reward: -0.03138.\n",
      "Gamma: 0.0. Episode 180000/300000. Epsilon: 0.0630967030102028. Reward: -0.03063.\n",
      "Gamma: 0.0. Episode 210000/300000. Epsilon: 0.03981132817671346. Reward: -0.03283.\n",
      "Gamma: 0.0. Episode 240000/300000. Epsilon: 0.02511924990657108. Reward: -0.03564666666666667.\n",
      "Gamma: 0.0. Episode 270000/300000. Epsilon: 0.015849175216360607. Reward: -0.031145.\n",
      "Gamma: 0.0. Episode 300000/300000. Epsilon: 0.010000153506701163. Reward: -0.030415.\n",
      "Gamma: 0.075. Episode 30000/300000. Epsilon: 0.6309670301067631. Reward: -0.031003333333333334.\n",
      "Gamma: 0.075. Episode 60000/300000. Epsilon: 0.39811328177011907. Reward: -0.029641666666666667.\n",
      "Gamma: 0.075. Episode 90000/300000. Epsilon: 0.25119249906759356. Reward: -0.030858333333333335.\n",
      "Gamma: 0.075. Episode 120000/300000. Epsilon: 0.15849175216479358. Reward: -0.02947666666666667.\n",
      "Gamma: 0.075. Episode 150000/300000. Epsilon: 0.10000153506776062. Reward: -0.031538333333333335.\n",
      "Gamma: 0.075. Episode 180000/300000. Epsilon: 0.0630967030102028. Reward: -0.031216666666666667.\n",
      "Gamma: 0.075. Episode 210000/300000. Epsilon: 0.03981132817671346. Reward: -0.028161666666666668.\n",
      "Gamma: 0.075. Episode 240000/300000. Epsilon: 0.02511924990657108. Reward: -0.030556666666666666.\n",
      "Gamma: 0.075. Episode 270000/300000. Epsilon: 0.015849175216360607. Reward: -0.03292666666666667.\n",
      "Gamma: 0.075. Episode 300000/300000. Epsilon: 0.010000153506701163. Reward: -0.029683333333333332.\n",
      "Gamma: 0.15. Episode 30000/300000. Epsilon: 0.6309670301067631. Reward: -0.0361.\n",
      "Gamma: 0.15. Episode 60000/300000. Epsilon: 0.39811328177011907. Reward: -0.029801666666666667.\n",
      "Gamma: 0.15. Episode 90000/300000. Epsilon: 0.25119249906759356. Reward: -0.031225.\n",
      "Gamma: 0.15. Episode 120000/300000. Epsilon: 0.15849175216479358. Reward: -0.028746666666666667.\n",
      "Gamma: 0.15. Episode 150000/300000. Epsilon: 0.10000153506776062. Reward: -0.027641666666666665.\n",
      "Gamma: 0.15. Episode 180000/300000. Epsilon: 0.0630967030102028. Reward: -0.029955.\n",
      "Gamma: 0.15. Episode 210000/300000. Epsilon: 0.03981132817671346. Reward: -0.03226.\n",
      "Gamma: 0.15. Episode 240000/300000. Epsilon: 0.02511924990657108. Reward: -0.027768333333333332.\n",
      "Gamma: 0.15. Episode 270000/300000. Epsilon: 0.015849175216360607. Reward: -0.030056666666666666.\n",
      "Gamma: 0.15. Episode 300000/300000. Epsilon: 0.010000153506701163. Reward: -0.031323333333333335.\n",
      "Gamma: 0.22499999999999998. Episode 30000/300000. Epsilon: 0.6309670301067631. Reward: -0.03852666666666667.\n",
      "Gamma: 0.22499999999999998. Episode 60000/300000. Epsilon: 0.39811328177011907. Reward: -0.03378.\n",
      "Gamma: 0.22499999999999998. Episode 90000/300000. Epsilon: 0.25119249906759356. Reward: -0.03491166666666667.\n",
      "Gamma: 0.22499999999999998. Episode 120000/300000. Epsilon: 0.15849175216479358. Reward: -0.033725.\n",
      "Gamma: 0.22499999999999998. Episode 150000/300000. Epsilon: 0.10000153506776062. Reward: -0.03150833333333333.\n",
      "Gamma: 0.22499999999999998. Episode 180000/300000. Epsilon: 0.0630967030102028. Reward: -0.03134.\n",
      "Gamma: 0.22499999999999998. Episode 210000/300000. Epsilon: 0.03981132817671346. Reward: -0.027195.\n",
      "Gamma: 0.22499999999999998. Episode 240000/300000. Epsilon: 0.02511924990657108. Reward: -0.0305.\n",
      "Gamma: 0.22499999999999998. Episode 270000/300000. Epsilon: 0.015849175216360607. Reward: -0.0308.\n",
      "Gamma: 0.22499999999999998. Episode 300000/300000. Epsilon: 0.010000153506701163. Reward: -0.031425.\n",
      "Gamma: 0.3. Episode 30000/300000. Epsilon: 0.6309670301067631. Reward: -0.041915.\n",
      "Gamma: 0.3. Episode 60000/300000. Epsilon: 0.39811328177011907. Reward: -0.037255.\n",
      "Gamma: 0.3. Episode 90000/300000. Epsilon: 0.25119249906759356. Reward: -0.030376666666666666.\n",
      "Gamma: 0.3. Episode 120000/300000. Epsilon: 0.15849175216479358. Reward: -0.034028333333333334.\n",
      "Gamma: 0.3. Episode 150000/300000. Epsilon: 0.10000153506776062. Reward: -0.03165333333333333.\n",
      "Gamma: 0.3. Episode 180000/300000. Epsilon: 0.0630967030102028. Reward: -0.027141666666666668.\n",
      "Gamma: 0.3. Episode 210000/300000. Epsilon: 0.03981132817671346. Reward: -0.029746666666666668.\n",
      "Gamma: 0.3. Episode 240000/300000. Epsilon: 0.02511924990657108. Reward: -0.031225.\n",
      "Gamma: 0.3. Episode 270000/300000. Epsilon: 0.015849175216360607. Reward: -0.030568333333333333.\n",
      "Gamma: 0.3. Episode 300000/300000. Epsilon: 0.010000153506701163. Reward: -0.030526666666666667.\n"
     ]
    },
    {
     "data": {
      "image/png": "[encoded data removed]",
      "text/plain": [
       "<Figure size 576x432 with 1 Axes>"
      ]
     },
     "metadata": {
      "needs_background": "light"
     },
     "output_type": "display_data"
    }
   ],
   "source": [
    "gamma_begin = 0.0\n",
    "gamma_end = 0.3\n",
    "n_episodes = 300000\n",
    "rewards = mc_control_plot(n_episodes=n_episodes, n_episodes_test=n_episodes, gamma_begin=gamma_begin, gamma_end=gamma_end, eps_gen=eps_generator(eps_start=1.0, eps_min=0.01, decay=0.01**(1/n_episodes)))\n",
    "\n",
    "fig, ax = plt.subplots(1, figsize=(8, 6))\n",
    "fig.suptitle('Rewards', fontsize=15)\n",
    "for i in range(len(rewards)):\n",
    "    ax.plot(rewards[i], label=\"Gamma {:10.3f}\".format(gamma_begin + (gamma_end - gamma_begin) / 4 * i))\n",
    "plt.legend(loc=\"lower right\", title=\"Legend\", frameon=False)\n",
    "plt.show()"
   ]
  },
  {
   "cell_type": "markdown",
   "metadata": {},
   "source": [
    "Почему маленькие гаммы дают лучше результат, чем большие? В этой игре очень много случайностей: победа или поражение не обязательно обусловлены верными или не верными ходами, за пару ходов ситуация может сильно измениться. Поэтому награждать стоит только за 1-2 последних хода. Почему гамма не полностью нулевая? Всё таки в этой игре есть стратегия, действия игрока влияют на ход игры, хоть и случайный выбор карт сильно затмевает их влияние. Почему не заметна разница между разными маленькими значениями гаммы? Возможно, график недостаточно точный."
   ]
  },
  {
   "cell_type": "markdown",
   "metadata": {},
   "source": [
    "## Часть вторая, удвоенная\n",
    "В базовый блекджек, описанный в предыдущем разделе, обыграть казино вряд ли получится. Но, к счастью, на этом история не заканчивается. Описанные выше правила были упрощёнными, а на самом деле у игрока есть ещё и другие возможности. Реализовывать split может оказаться непросто, поэтому давайте ограничимся удвоением ставки. Итак, у игрока появляется дополнительное действие:  \n",
    "double — удвоить ставку; при этом больше действий делать нельзя, игроку выдаётся ровно одна дополнительная карта, а выигрыш или проигрыш удваивается.  \n",
    "Реализуйте новый вариант блекджека на основе окружения Blackjack-v0 из OpenAI Gym, в котором разрешено удвоение ставки.  \n",
    "Реализуйте метод обучения с подкреплением без модели для этого варианта, постройте графики, аналогичные п.2.  \n"
   ]
  },
  {
   "cell_type": "code",
   "execution_count": 28,
   "metadata": {},
   "outputs": [],
   "source": [
    "import gym\n",
    "from gym import error, spaces, utils\n",
    "from gym.utils import seeding\n",
    "from gym.envs.registration import register, registry\n",
    "from gym.envs.toy_text.blackjack import *\n",
    "\n",
    "class BlackjackEnvDoubling(gym.Env):\n",
    "    def __init__(self, natural=False):\n",
    "        self.action_space = spaces.Discrete(3)\n",
    "        self.observation_space = spaces.Tuple((\n",
    "            spaces.Discrete(32),\n",
    "            spaces.Discrete(11),\n",
    "            spaces.Discrete(2)))\n",
    "        self.seed()\n",
    "\n",
    "        # Flag to payout 1.5 on a \"natural\" blackjack win, like casino rules\n",
    "        # Ref: http://www.bicyclecards.com/how-to-play/blackjack/\n",
    "        self.natural = natural\n",
    "        # Start the first game\n",
    "        self.reset()\n",
    "\n",
    "    def seed(self, seed=None):\n",
    "        self.np_random, seed = seeding.np_random(seed)\n",
    "        return [seed]\n",
    "\n",
    "    def step(self, action):\n",
    "        assert self.action_space.contains(action)\n",
    "        if action == 1:  # hit: add a card to players hand and return\n",
    "            self.player.append(draw_card(self.np_random))\n",
    "            if is_bust(self.player):\n",
    "                done = True\n",
    "                reward = -1.\n",
    "            else:\n",
    "                done = False\n",
    "                reward = 0.\n",
    "        elif action == 0:  # stick: play out the dealers hand, and score\n",
    "            done = True\n",
    "            while sum_hand(self.dealer) < 17:\n",
    "                self.dealer.append(draw_card(self.np_random))\n",
    "            reward = cmp(score(self.player), score(self.dealer))\n",
    "            if self.natural and is_natural(self.player) and reward == 1.:\n",
    "                reward = 1.5\n",
    "        elif action == 2:\n",
    "            self.player.append(draw_card(self.np_random))\n",
    "            done = True\n",
    "            if is_bust(self.player):\n",
    "                reward = -2.\n",
    "            else:\n",
    "                while sum_hand(self.dealer) < 17:\n",
    "                    self.dealer.append(draw_card(self.np_random))\n",
    "                reward = cmp(score(self.player), score(self.dealer)) * 2\n",
    "        return self._get_obs(), reward, done, {}\n",
    "\n",
    "    def _get_obs(self):\n",
    "        return (sum_hand(self.player), self.dealer[0], usable_ace(self.player))\n",
    "\n",
    "    def reset(self):\n",
    "        self.dealer = draw_hand(self.np_random)\n",
    "        self.player = draw_hand(self.np_random)\n",
    "        return self._get_obs()\n",
    "\n",
    "gym.envs.toy_text.blackjack.BlackjackEnvDoubling = BlackjackEnvDoubling\n",
    "    \n",
    "if 'Blackjack-v1' in registry.env_specs:\n",
    "    del registry.env_specs['Blackjack-v1']\n",
    "    \n",
    "register(\n",
    "    id='Blackjack-v1',\n",
    "    entry_point='gym.envs.toy_text.blackjack:BlackjackEnvDoubling',\n",
    ")"
   ]
  },
  {
   "cell_type": "markdown",
   "metadata": {},
   "source": [
    "Проверим новое окружение с удвоением ставки:"
   ]
  },
  {
   "cell_type": "code",
   "execution_count": 29,
   "metadata": {},
   "outputs": [
    {
     "name": "stdout",
     "output_type": "stream",
     "text": [
      "Начальная раздача:  (10, 10, False)\n",
      "Берём карту.\n",
      "(17, 10, False) 0.0 False {}\n",
      "Больше не берём.\n",
      "(17, 10, False) -1.0 True {}\n",
      "Поражение.\n"
     ]
    },
    {
     "data": {
      "text/plain": [
       "([(10, 10, False), (17, 10, False)], [1, 0], [0.0, -1.0])"
      ]
     },
     "execution_count": 29,
     "metadata": {},
     "output_type": "execute_result"
    }
   ],
   "source": [
    "play_blackjack(env=gym.make(\"Blackjack-v1\", natural=True), strategy=random_strategy, verbose=True, action_names=[\"Больше не берём.\", \"Берём карту.\", \"Берём одну карту и удваиваем ставку.\"])"
   ]
  },
  {
   "cell_type": "markdown",
   "metadata": {},
   "source": [
    "Произведём обучение с подкреплением и оценим средний выигрыш:"
   ]
  },
  {
   "cell_type": "code",
   "execution_count": 30,
   "metadata": {
    "scrolled": true
   },
   "outputs": [
    {
     "name": "stdout",
     "output_type": "stream",
     "text": [
      "Episode 100000/1000000. Epsilon: 0.6309602501516386.\n",
      "Episode 200000/1000000. Epsilon: 0.3981090039074759.\n",
      "Episode 300000/1000000. Epsilon: 0.25118979991863927.\n",
      "Episode 400000/1000000. Epsilon: 0.15849004911687575.\n",
      "Episode 500000/1000000. Epsilon: 0.10000046051712816.\n",
      "Episode 600000/1000000. Epsilon: 0.0630960250145623.\n",
      "Episode 700000/1000000. Epsilon: 0.039810900390368394.\n",
      "Episode 800000/1000000. Epsilon: 0.025118979991624307.\n",
      "Episode 900000/1000000. Epsilon: 0.01584900491153603.\n",
      "Episode 1000000/1000000. Epsilon: 0.01000004605161713.\n",
      "-0.0186625\n",
      "CPU times: user 2min 29s, sys: 1.91 s, total: 2min 31s\n",
      "Wall time: 2min 28s\n"
     ]
    }
   ],
   "source": [
    "%%time\n",
    "n_episodes = 1000000\n",
    "best_policy, Q_for_best_policy = mc_control_fast(env=gym.make('Blackjack-v1', natural=True), gamma=0.2, n_episodes=n_episodes, eps_gen=eps_generator(eps_start=1.0, eps_min=0.01, decay=0.01**(1/n_episodes)))\n",
    "print(average_reward(strategy=best_policy, env=gym.make(\"Blackjack-v1\", natural=True), n_episodes=n_episodes, Q=Q_for_best_policy, verbose=False))"
   ]
  },
  {
   "cell_type": "markdown",
   "metadata": {},
   "source": [
    "Построим графики среднего выигрыша по ходу обучения:"
   ]
  },
  {
   "cell_type": "code",
   "execution_count": 34,
   "metadata": {
    "scrolled": false
   },
   "outputs": [
    {
     "name": "stdout",
     "output_type": "stream",
     "text": [
      "Gamma: 0.0. Episode 10000/100000. Epsilon: 0.6309864018087341. Reward: -0.06095.\n",
      "Gamma: 0.0. Episode 20000/100000. Epsilon: 0.39812550448832373. Reward: -0.052495.\n",
      "Gamma: 0.0. Episode 30000/100000. Epsilon: 0.2512002110817752. Reward: -0.034455.\n",
      "Gamma: 0.0. Episode 40000/100000. Epsilon: 0.15849661811701005. Reward: -0.02195.\n",
      "Gamma: 0.0. Episode 50000/100000. Epsilon: 0.10000460527619258. Reward: -0.020015.\n",
      "Gamma: 0.0. Episode 60000/100000. Epsilon: 0.06309864018085258. Reward: -0.025475.\n",
      "Gamma: 0.0. Episode 70000/100000. Epsilon: 0.03981255044881961. Reward: -0.023225.\n",
      "Gamma: 0.0. Episode 80000/100000. Epsilon: 0.02512002110816935. Reward: -0.02367.\n",
      "Gamma: 0.0. Episode 90000/100000. Epsilon: 0.015849661811695913. Reward: -0.02351.\n",
      "Gamma: 0.0. Episode 100000/100000. Epsilon: 0.010000460527616143. Reward: -0.022185.\n",
      "Gamma: 0.25. Episode 10000/100000. Epsilon: 0.6309864018087341. Reward: -0.069135.\n",
      "Gamma: 0.25. Episode 20000/100000. Epsilon: 0.39812550448832373. Reward: -0.042745.\n",
      "Gamma: 0.25. Episode 30000/100000. Epsilon: 0.2512002110817752. Reward: -0.03962.\n",
      "Gamma: 0.25. Episode 40000/100000. Epsilon: 0.15849661811701005. Reward: -0.01938.\n",
      "Gamma: 0.25. Episode 50000/100000. Epsilon: 0.10000460527619258. Reward: -0.013825.\n",
      "Gamma: 0.25. Episode 60000/100000. Epsilon: 0.06309864018085258. Reward: -0.02271.\n",
      "Gamma: 0.25. Episode 70000/100000. Epsilon: 0.03981255044881961. Reward: -0.023045.\n",
      "Gamma: 0.25. Episode 80000/100000. Epsilon: 0.02512002110816935. Reward: -0.015945.\n",
      "Gamma: 0.25. Episode 90000/100000. Epsilon: 0.015849661811695913. Reward: -0.022315.\n",
      "Gamma: 0.25. Episode 100000/100000. Epsilon: 0.010000460527616143. Reward: -0.025285.\n",
      "Gamma: 0.5. Episode 10000/100000. Epsilon: 0.6309864018087341. Reward: -0.072345.\n",
      "Gamma: 0.5. Episode 20000/100000. Epsilon: 0.39812550448832373. Reward: -0.048525.\n",
      "Gamma: 0.5. Episode 30000/100000. Epsilon: 0.2512002110817752. Reward: -0.039325.\n",
      "Gamma: 0.5. Episode 40000/100000. Epsilon: 0.15849661811701005. Reward: -0.024035.\n",
      "Gamma: 0.5. Episode 50000/100000. Epsilon: 0.10000460527619258. Reward: -0.03093.\n",
      "Gamma: 0.5. Episode 60000/100000. Epsilon: 0.06309864018085258. Reward: -0.027655.\n",
      "Gamma: 0.5. Episode 70000/100000. Epsilon: 0.03981255044881961. Reward: -0.03031.\n",
      "Gamma: 0.5. Episode 80000/100000. Epsilon: 0.02512002110816935. Reward: -0.02502.\n",
      "Gamma: 0.5. Episode 90000/100000. Epsilon: 0.015849661811695913. Reward: -0.025205.\n",
      "Gamma: 0.5. Episode 100000/100000. Epsilon: 0.010000460527616143. Reward: -0.02572.\n",
      "Gamma: 0.75. Episode 10000/100000. Epsilon: 0.6309864018087341. Reward: -0.09581.\n",
      "Gamma: 0.75. Episode 20000/100000. Epsilon: 0.39812550448832373. Reward: -0.07091.\n",
      "Gamma: 0.75. Episode 30000/100000. Epsilon: 0.2512002110817752. Reward: -0.060465.\n",
      "Gamma: 0.75. Episode 40000/100000. Epsilon: 0.15849661811701005. Reward: -0.051855.\n",
      "Gamma: 0.75. Episode 50000/100000. Epsilon: 0.10000460527619258. Reward: -0.045085.\n",
      "Gamma: 0.75. Episode 60000/100000. Epsilon: 0.06309864018085258. Reward: -0.05149.\n",
      "Gamma: 0.75. Episode 70000/100000. Epsilon: 0.03981255044881961. Reward: -0.045185.\n",
      "Gamma: 0.75. Episode 80000/100000. Epsilon: 0.02512002110816935. Reward: -0.04903.\n",
      "Gamma: 0.75. Episode 90000/100000. Epsilon: 0.015849661811695913. Reward: -0.039935.\n",
      "Gamma: 0.75. Episode 100000/100000. Epsilon: 0.010000460527616143. Reward: -0.043365.\n",
      "Gamma: 1.0. Episode 10000/100000. Epsilon: 0.6309864018087341. Reward: -0.09732.\n",
      "Gamma: 1.0. Episode 20000/100000. Epsilon: 0.39812550448832373. Reward: -0.093895.\n",
      "Gamma: 1.0. Episode 30000/100000. Epsilon: 0.2512002110817752. Reward: -0.08128.\n",
      "Gamma: 1.0. Episode 40000/100000. Epsilon: 0.15849661811701005. Reward: -0.07222.\n",
      "Gamma: 1.0. Episode 50000/100000. Epsilon: 0.10000460527619258. Reward: -0.074495.\n",
      "Gamma: 1.0. Episode 60000/100000. Epsilon: 0.06309864018085258. Reward: -0.07276.\n",
      "Gamma: 1.0. Episode 70000/100000. Epsilon: 0.03981255044881961. Reward: -0.06653.\n",
      "Gamma: 1.0. Episode 80000/100000. Epsilon: 0.02512002110816935. Reward: -0.06482.\n",
      "Gamma: 1.0. Episode 90000/100000. Epsilon: 0.015849661811695913. Reward: -0.068785.\n",
      "Gamma: 1.0. Episode 100000/100000. Epsilon: 0.010000460527616143. Reward: -0.066485.\n"
     ]
    },
    {
     "data": {
      "image/png": "[encoded data removed]",
      "text/plain": [
       "<Figure size 576x432 with 1 Axes>"
      ]
     },
     "metadata": {
      "needs_background": "light"
     },
     "output_type": "display_data"
    }
   ],
   "source": [
    "gamma_begin = 0.0\n",
    "gamma_end = 1.0\n",
    "n_episodes = 100000\n",
    "rewards = mc_control_plot(env=gym.make('Blackjack-v1', natural=True), n_episodes=n_episodes, n_episodes_test=n_episodes, gamma_begin=gamma_begin, gamma_end=gamma_end, eps_gen=eps_generator(eps_start=1.0, eps_min=0.01, decay=0.01**(1/n_episodes)))\n",
    "\n",
    "fig, ax = plt.subplots(1, figsize=(8, 6))\n",
    "fig.suptitle('Rewards', fontsize=15)\n",
    "for i in range(len(rewards)):\n",
    "    ax.plot(rewards[i], label=\"Gamma {:10.1f}\".format(gamma_begin + (gamma_end - gamma_begin) / 4 * i))\n",
    "plt.legend(loc=\"lower right\", title=\"Legend\", frameon=False)\n",
    "plt.show()"
   ]
  },
  {
   "cell_type": "code",
   "execution_count": 35,
   "metadata": {},
   "outputs": [
    {
     "name": "stdout",
     "output_type": "stream",
     "text": [
      "Gamma: 0.0. Episode 30000/300000. Epsilon: 0.6309670301067631. Reward: -0.03496166666666667.\n",
      "Gamma: 0.0. Episode 60000/300000. Epsilon: 0.39811328177011907. Reward: -0.029263333333333332.\n",
      "Gamma: 0.0. Episode 90000/300000. Epsilon: 0.25119249906759356. Reward: -0.023333333333333334.\n",
      "Gamma: 0.0. Episode 120000/300000. Epsilon: 0.15849175216479358. Reward: -0.014196666666666666.\n",
      "Gamma: 0.0. Episode 150000/300000. Epsilon: 0.10000153506776062. Reward: -0.015521666666666666.\n",
      "Gamma: 0.0. Episode 180000/300000. Epsilon: 0.0630967030102028. Reward: -0.015008333333333334.\n",
      "Gamma: 0.0. Episode 210000/300000. Epsilon: 0.03981132817671346. Reward: -0.017631666666666667.\n",
      "Gamma: 0.0. Episode 240000/300000. Epsilon: 0.02511924990657108. Reward: -0.01579.\n",
      "Gamma: 0.0. Episode 270000/300000. Epsilon: 0.015849175216360607. Reward: -0.017056666666666668.\n",
      "Gamma: 0.0. Episode 300000/300000. Epsilon: 0.010000153506701163. Reward: -0.020763333333333335.\n",
      "Gamma: 0.075. Episode 30000/300000. Epsilon: 0.6309670301067631. Reward: -0.03854.\n",
      "Gamma: 0.075. Episode 60000/300000. Epsilon: 0.39811328177011907. Reward: -0.023196666666666668.\n",
      "Gamma: 0.075. Episode 90000/300000. Epsilon: 0.25119249906759356. Reward: -0.02307.\n",
      "Gamma: 0.075. Episode 120000/300000. Epsilon: 0.15849175216479358. Reward: -0.018163333333333333.\n",
      "Gamma: 0.075. Episode 150000/300000. Epsilon: 0.10000153506776062. Reward: -0.019825.\n",
      "Gamma: 0.075. Episode 180000/300000. Epsilon: 0.0630967030102028. Reward: -0.018058333333333332.\n",
      "Gamma: 0.075. Episode 210000/300000. Epsilon: 0.03981132817671346. Reward: -0.01738666666666667.\n",
      "Gamma: 0.075. Episode 240000/300000. Epsilon: 0.02511924990657108. Reward: -0.020456666666666668.\n",
      "Gamma: 0.075. Episode 270000/300000. Epsilon: 0.015849175216360607. Reward: -0.01736.\n",
      "Gamma: 0.075. Episode 300000/300000. Epsilon: 0.010000153506701163. Reward: -0.020258333333333333.\n",
      "Gamma: 0.15. Episode 30000/300000. Epsilon: 0.6309670301067631. Reward: -0.032745.\n",
      "Gamma: 0.15. Episode 60000/300000. Epsilon: 0.39811328177011907. Reward: -0.027773333333333334.\n",
      "Gamma: 0.15. Episode 90000/300000. Epsilon: 0.25119249906759356. Reward: -0.026006666666666668.\n",
      "Gamma: 0.15. Episode 120000/300000. Epsilon: 0.15849175216479358. Reward: -0.022131666666666668.\n",
      "Gamma: 0.15. Episode 150000/300000. Epsilon: 0.10000153506776062. Reward: -0.018405.\n",
      "Gamma: 0.15. Episode 180000/300000. Epsilon: 0.0630967030102028. Reward: -0.017463333333333334.\n",
      "Gamma: 0.15. Episode 210000/300000. Epsilon: 0.03981132817671346. Reward: -0.018686666666666667.\n",
      "Gamma: 0.15. Episode 240000/300000. Epsilon: 0.02511924990657108. Reward: -0.019538333333333335.\n",
      "Gamma: 0.15. Episode 270000/300000. Epsilon: 0.015849175216360607. Reward: -0.02041.\n",
      "Gamma: 0.15. Episode 300000/300000. Epsilon: 0.010000153506701163. Reward: -0.014516666666666667.\n",
      "Gamma: 0.22499999999999998. Episode 30000/300000. Epsilon: 0.6309670301067631. Reward: -0.039446666666666665.\n",
      "Gamma: 0.22499999999999998. Episode 60000/300000. Epsilon: 0.39811328177011907. Reward: -0.022723333333333335.\n",
      "Gamma: 0.22499999999999998. Episode 90000/300000. Epsilon: 0.25119249906759356. Reward: -0.020941666666666667.\n",
      "Gamma: 0.22499999999999998. Episode 120000/300000. Epsilon: 0.15849175216479358. Reward: -0.02091.\n",
      "Gamma: 0.22499999999999998. Episode 150000/300000. Epsilon: 0.10000153506776062. Reward: -0.01759.\n",
      "Gamma: 0.22499999999999998. Episode 180000/300000. Epsilon: 0.0630967030102028. Reward: -0.020873333333333334.\n",
      "Gamma: 0.22499999999999998. Episode 210000/300000. Epsilon: 0.03981132817671346. Reward: -0.014896666666666667.\n",
      "Gamma: 0.22499999999999998. Episode 240000/300000. Epsilon: 0.02511924990657108. Reward: -0.016051666666666665.\n",
      "Gamma: 0.22499999999999998. Episode 270000/300000. Epsilon: 0.015849175216360607. Reward: -0.018325.\n",
      "Gamma: 0.22499999999999998. Episode 300000/300000. Epsilon: 0.010000153506701163. Reward: -0.0162.\n",
      "Gamma: 0.3. Episode 30000/300000. Epsilon: 0.6309670301067631. Reward: -0.04007.\n",
      "Gamma: 0.3. Episode 60000/300000. Epsilon: 0.39811328177011907. Reward: -0.03410833333333333.\n",
      "Gamma: 0.3. Episode 90000/300000. Epsilon: 0.25119249906759356. Reward: -0.024651666666666665.\n",
      "Gamma: 0.3. Episode 120000/300000. Epsilon: 0.15849175216479358. Reward: -0.025356666666666666.\n",
      "Gamma: 0.3. Episode 150000/300000. Epsilon: 0.10000153506776062. Reward: -0.020063333333333332.\n",
      "Gamma: 0.3. Episode 180000/300000. Epsilon: 0.0630967030102028. Reward: -0.0242.\n",
      "Gamma: 0.3. Episode 210000/300000. Epsilon: 0.03981132817671346. Reward: -0.019296666666666667.\n",
      "Gamma: 0.3. Episode 240000/300000. Epsilon: 0.02511924990657108. Reward: -0.01843.\n",
      "Gamma: 0.3. Episode 270000/300000. Epsilon: 0.015849175216360607. Reward: -0.018611666666666665.\n",
      "Gamma: 0.3. Episode 300000/300000. Epsilon: 0.010000153506701163. Reward: -0.01976.\n"
     ]
    },
    {
     "data": {
      "image/png": "[encoded data removed]",
      "text/plain": [
       "<Figure size 576x432 with 1 Axes>"
      ]
     },
     "metadata": {
      "needs_background": "light"
     },
     "output_type": "display_data"
    }
   ],
   "source": [
    "gamma_begin = 0.0\n",
    "gamma_end = 0.3\n",
    "n_episodes = 300000\n",
    "rewards = mc_control_plot(env=gym.make('Blackjack-v1', natural=True), n_episodes=n_episodes, n_episodes_test=n_episodes, gamma_begin=gamma_begin, gamma_end=gamma_end, eps_gen=eps_generator(eps_start=1.0, eps_min=0.01, decay=0.01**(1/n_episodes)))\n",
    "\n",
    "fig, ax = plt.subplots(1, figsize=(8, 6))\n",
    "fig.suptitle('Rewards', fontsize=15)\n",
    "for i in range(len(rewards)):\n",
    "    ax.plot(rewards[i], label=\"Gamma {:10.3f}\".format(gamma_begin + (gamma_end - gamma_begin) / 4 * i))\n",
    "plt.legend(loc=\"lower right\", title=\"Legend\", frameon=False)\n",
    "plt.show()"
   ]
  },
  {
   "cell_type": "markdown",
   "metadata": {},
   "source": [
    "# Часть третья, в главной роли — Дастин Хоффман\n",
    "А теперь давайте вспомним, как играют в блекджек настоящие профессионалы.  \n",
    "Дело в том, что в оффлайн-казино обычно не перемешивают колоду после каждой раздачи — это слишком замедляло бы игру.  \n",
    "После раздачи карты просто раздаются дальше с верха колоды до тех пор, пока карт не останется слишком мало, и только тогда колода перемешивается; давайте для определённости считать, что наше казино будет перемешивать колоду, в которой осталось меньше 15 карт.  \n",
    "\n",
    "Действительно, если вы будете запоминать, какие карты уже вышли, у вас будет информация о том, какие карты ещё остались, а это позволяет лучше понять, когда нужно удваивать ставку или делать split, а когда лучше не стоит. В настоящем казино могут раздавать карты сразу из нескольких колод, и заслуга Rain Man’а была в том, что он смог считать карты в шести колодах одновременно. Но мы с вами вооружены компьютерами, так что подсчёт можно считать автоматическим.\n",
    "\n",
    "Реализуйте вариант окружения Blackjack-v0 из предыдущей части (с удвоением), в котором игрок имеет возможность “считать карты” в колоде. Это можно сделать разными способами; возможно, вам поможет статья википедии о блекджеке (а возможно, и нет).  \n",
    "Реализуйте метод обучения с подкреплением без модели для этого варианта, постройте графики, аналогичные п.2.  \n",
    "\n"
   ]
  },
  {
   "cell_type": "code",
   "execution_count": 36,
   "metadata": {},
   "outputs": [],
   "source": [
    "class BlackjackEnvCounting(gym.Env):\n",
    "    def __init__(self, natural=False):      \n",
    "        self.action_space = spaces.Discrete(3)\n",
    "        self.observation_space = spaces.Tuple((\n",
    "            spaces.Discrete(32),\n",
    "            spaces.Discrete(11),\n",
    "            spaces.Discrete(2),\n",
    "            spaces.Box(-22.0, +22.0, shape=(1,1), dtype=np.float32)))\n",
    "        self.seed()\n",
    "        \n",
    "        # 1 = Ace, 2-10 = Number cards, Jack/Queen/King = 10\n",
    "        self.deck = [1, 2, 3, 4, 5, 6, 7, 8, 9, 10, 10, 10, 10] * 4\n",
    "        self.card_counter = 0.0\n",
    "        self.card_points = {\n",
    "            1: -1,\n",
    "            2: 0.5,\n",
    "            3: 1,\n",
    "            4: 1,\n",
    "            5: 1.5,\n",
    "            6: 1,\n",
    "            7: 0.5,\n",
    "            8: 0,\n",
    "            9: -0.5,\n",
    "            10: -1,\n",
    "        }\n",
    "\n",
    "        # Flag to payout 1.5 on a \"natural\" blackjack win, like casino rules\n",
    "        # Ref: http://www.bicyclecards.com/how-to-play/blackjack/\n",
    "        self.natural = natural\n",
    "        # Start the first game\n",
    "        self.reset()\n",
    "    \n",
    "    def cmp(self, a, b):\n",
    "        return float(a > b) - float(a < b)\n",
    "\n",
    "    def draw_card(self, np_random):\n",
    "        card = self.deck.pop(np_random.randint(0, len(self.deck)))\n",
    "        self.card_counter += self.card_points[card]\n",
    "        return int(card)\n",
    "\n",
    "\n",
    "    def draw_hand(self, np_random):\n",
    "        return [self.draw_card(np_random), self.draw_card(np_random)]\n",
    "\n",
    "\n",
    "    def usable_ace(self, hand):  # Does this hand have a usable ace?\n",
    "        return 1 in hand and sum(hand) + 10 <= 21\n",
    "\n",
    "\n",
    "    def sum_hand(self, hand):  # Return current hand total\n",
    "        if self.usable_ace(hand):\n",
    "            return sum(hand) + 10\n",
    "        return sum(hand)\n",
    "\n",
    "\n",
    "    def is_bust(self, hand):  # Is this hand a bust?\n",
    "        return self.sum_hand(hand) > 21\n",
    "\n",
    "\n",
    "    def score(self, hand):  # What is the score of this hand (0 if bust)\n",
    "        return 0 if self.is_bust(hand) else self.sum_hand(hand)\n",
    "\n",
    "\n",
    "    def is_natural(self, hand):  # Is this hand a natural blackjack?\n",
    "        return sorted(hand) == [1, 10]\n",
    "\n",
    "\n",
    "    def seed(self, seed=None):\n",
    "        self.np_random, seed = seeding.np_random(seed)\n",
    "        return [seed]\n",
    "\n",
    "    def step(self, action):\n",
    "        assert self.action_space.contains(action)\n",
    "        if action == 1:  # hit: add a card to players hand and return\n",
    "            self.player.append(self.draw_card(self.np_random))\n",
    "            if self.is_bust(self.player):\n",
    "                done = True\n",
    "                reward = -1.\n",
    "            else:\n",
    "                done = False\n",
    "                reward = 0.\n",
    "        elif action == 0:  # stick: play out the dealers hand, and score\n",
    "            done = True\n",
    "            while self.sum_hand(self.dealer) < 17:\n",
    "                self.dealer.append(self.draw_card(self.np_random))\n",
    "            reward = self.cmp(self.score(self.player), self.score(self.dealer))\n",
    "            if self.natural and self.is_natural(self.player) and reward == 1.:\n",
    "                reward = 1.5\n",
    "        elif action == 2:\n",
    "            self.player.append(self.draw_card(self.np_random))\n",
    "            done = True\n",
    "            if self.is_bust(self.player):\n",
    "                reward = -2.\n",
    "            else:\n",
    "                while self.sum_hand(self.dealer) < 17:\n",
    "                    self.dealer.append(self.draw_card(self.np_random))\n",
    "                reward = self.cmp(self.score(self.player), self.score(self.dealer)) * 2\n",
    "        return self._get_obs(), reward, done, {}\n",
    "\n",
    "    def _get_obs(self):\n",
    "        return (self.sum_hand(self.player), self.dealer[0], self.usable_ace(self.player), self.card_counter)\n",
    "\n",
    "    def reset(self):\n",
    "        if len(self.deck) < 15:\n",
    "            # 1 = Ace, 2-10 = Number cards, Jack/Queen/King = 10\n",
    "            self.deck = [1, 2, 3, 4, 5, 6, 7, 8, 9, 10, 10, 10, 10] * 4\n",
    "            self.card_counter = 0.0\n",
    "        \n",
    "        self.dealer = self.draw_hand(self.np_random)\n",
    "        self.player = self.draw_hand(self.np_random)\n",
    "        return self._get_obs()\n",
    "\n",
    "gym.envs.toy_text.blackjack.BlackjackEnvCounting = BlackjackEnvCounting\n",
    "    \n",
    "if 'Blackjack-v2' in registry.env_specs:\n",
    "    del registry.env_specs['Blackjack-v2']\n",
    "    \n",
    "register(\n",
    "    id='Blackjack-v2',\n",
    "    entry_point='gym.envs.toy_text.blackjack:BlackjackEnvCounting',\n",
    ")"
   ]
  },
  {
   "cell_type": "markdown",
   "metadata": {},
   "source": [
    "Проверим новое окружение с удвоением ставки и подсчётом карт в колоде:"
   ]
  },
  {
   "cell_type": "code",
   "execution_count": 37,
   "metadata": {
    "scrolled": false
   },
   "outputs": [
    {
     "name": "stdout",
     "output_type": "stream",
     "text": [
      "Начальная раздача:  (19, 1, True, 0.0)\n",
      "Больше не берём.\n",
      "(19, 1, True, 0.0) -1.0 True {}\n",
      "Поражение.\n",
      "Осталось карт в колоде: 44\n",
      "Значение счётчика карт по системе \"Половинки\": 0.0\n",
      "=============================================\n",
      "Начальная раздача:  (11, 4, False, 1.0)\n",
      "Больше не берём.\n",
      "(11, 4, False, 0.5) 1.0 True {}\n",
      "Победа.\n",
      "Осталось карт в колоде: 39\n",
      "Значение счётчика карт по системе \"Половинки\": 0.5\n",
      "=============================================\n",
      "Начальная раздача:  (19, 2, True, 1.5)\n",
      "Берём карту.\n",
      "(19, 2, False, 0.5) 0.0 False {}\n",
      "Больше не берём.\n",
      "(19, 2, False, -0.5) 1.0 True {}\n",
      "Победа.\n",
      "Осталось карт в колоде: 33\n",
      "Значение счётчика карт по системе \"Половинки\": -0.5\n",
      "=============================================\n",
      "Начальная раздача:  (19, 9, False, -3.5)\n",
      "Берём одну карту и удваиваем ставку.\n",
      "(29, 9, False, -4.5) -2.0 True {}\n",
      "Поражение.\n",
      "Осталось карт в колоде: 28\n",
      "Значение счётчика карт по системе \"Половинки\": -4.5\n",
      "=============================================\n",
      "Начальная раздача:  (13, 2, False, -3.0)\n",
      "Берём карту.\n",
      "(23, 2, False, -4.0) -1.0 True {}\n",
      "Поражение.\n",
      "Осталось карт в колоде: 23\n",
      "Значение счётчика карт по системе \"Половинки\": -4.0\n",
      "=============================================\n",
      "Начальная раздача:  (15, 6, False, -1.5)\n",
      "Больше не берём.\n",
      "(15, 6, False, -2.0) 1.0 True {}\n",
      "Победа.\n",
      "Осталось карт в колоде: 17\n",
      "Значение счётчика карт по системе \"Половинки\": -2.0\n",
      "=============================================\n",
      "Начальная раздача:  (9, 3, False, 0.0)\n",
      "Берём карту.\n",
      "(13, 3, False, 1.0) 0.0 False {}\n",
      "Берём одну карту и удваиваем ставку.\n",
      "(14, 3, False, 1.5) -2.0 True {}\n",
      "Поражение.\n",
      "Осталось карт в колоде: 9\n",
      "Значение счётчика карт по системе \"Половинки\": 1.5\n",
      "=============================================\n",
      "Начальная раздача:  (15, 10, True, -2.0)\n",
      "Больше не берём.\n",
      "(15, 10, True, -2.0) -1.0 True {}\n",
      "Поражение.\n",
      "Осталось карт в колоде: 48\n",
      "Значение счётчика карт по системе \"Половинки\": -2.0\n",
      "=============================================\n",
      "Начальная раздача:  (16, 8, True, -2.0)\n",
      "Берём карту.\n",
      "(16, 8, False, -3.0) 0.0 False {}\n",
      "Больше не берём.\n",
      "(16, 8, False, -3.0) -1.0 True {}\n",
      "Поражение.\n",
      "Осталось карт в колоде: 43\n",
      "Значение счётчика карт по системе \"Половинки\": -3.0\n",
      "=============================================\n",
      "Начальная раздача:  (17, 9, False, -5.0)\n",
      "Берём карту.\n",
      "(27, 9, False, -6.0) -1.0 True {}\n",
      "Поражение.\n",
      "Осталось карт в колоде: 38\n",
      "Значение счётчика карт по системе \"Половинки\": -6.0\n",
      "=============================================\n"
     ]
    }
   ],
   "source": [
    "env = gym.make(\"Blackjack-v2\", natural=True)\n",
    "for i in range(10):\n",
    "    play_blackjack(env=env, strategy=random_strategy, verbose=True, action_names=[\"Больше не берём.\", \"Берём карту.\", \"Берём одну карту и удваиваем ставку.\"])\n",
    "    print(\"Осталось карт в колоде: {}\".format(len(env.deck)))\n",
    "    print(\"Значение счётчика карт по системе \\\"Половинки\\\": {}\".format(env.card_counter))\n",
    "    print(\"=============================================\")"
   ]
  },
  {
   "cell_type": "markdown",
   "metadata": {},
   "source": [
    "Произведём обучение с подкреплением и оценим средний выигрыш:"
   ]
  },
  {
   "cell_type": "code",
   "execution_count": 38,
   "metadata": {
    "scrolled": true
   },
   "outputs": [
    {
     "name": "stdout",
     "output_type": "stream",
     "text": [
      "Episode 100000/1000000. Epsilon: 0.6309602501516386.\n",
      "Episode 200000/1000000. Epsilon: 0.3981090039074759.\n",
      "Episode 300000/1000000. Epsilon: 0.25118979991863927.\n",
      "Episode 400000/1000000. Epsilon: 0.15849004911687575.\n",
      "Episode 500000/1000000. Epsilon: 0.10000046051712816.\n",
      "Episode 600000/1000000. Epsilon: 0.0630960250145623.\n",
      "Episode 700000/1000000. Epsilon: 0.039810900390368394.\n",
      "Episode 800000/1000000. Epsilon: 0.025118979991624307.\n",
      "Episode 900000/1000000. Epsilon: 0.01584900491153603.\n",
      "Episode 1000000/1000000. Epsilon: 0.01000004605161713.\n",
      "-0.0076715\n",
      "CPU times: user 1min 58s, sys: 783 ms, total: 1min 59s\n",
      "Wall time: 1min 57s\n"
     ]
    }
   ],
   "source": [
    "%%time\n",
    "n_episodes = 1000000\n",
    "best_policy, Q_for_best_policy = mc_control_fast(env=gym.make('Blackjack-v2', natural=True), n_episodes=n_episodes, gamma=0.2, eps_gen=eps_generator(eps_start=1.0, eps_min=0.01, decay=0.01**(1/n_episodes)))\n",
    "print(average_reward(strategy=best_policy, env=gym.make(\"Blackjack-v2\", natural=True), n_episodes=n_episodes, Q=Q_for_best_policy, verbose=False))"
   ]
  },
  {
   "cell_type": "markdown",
   "metadata": {},
   "source": [
    "Почти вышли в плюс."
   ]
  },
  {
   "cell_type": "markdown",
   "metadata": {},
   "source": [
    "Построим графики среднего выигрыша по ходу обучения:"
   ]
  },
  {
   "cell_type": "code",
   "execution_count": 39,
   "metadata": {
    "scrolled": false
   },
   "outputs": [
    {
     "name": "stdout",
     "output_type": "stream",
     "text": [
      "Gamma: 0.0. Episode 10000/100000. Epsilon: 0.6309864018087341. Reward: -0.18853.\n",
      "Gamma: 0.0. Episode 20000/100000. Epsilon: 0.39812550448832373. Reward: -0.15203.\n",
      "Gamma: 0.0. Episode 30000/100000. Epsilon: 0.2512002110817752. Reward: -0.12306.\n",
      "Gamma: 0.0. Episode 40000/100000. Epsilon: 0.15849661811701005. Reward: -0.103015.\n",
      "Gamma: 0.0. Episode 50000/100000. Epsilon: 0.10000460527619258. Reward: -0.10018.\n",
      "Gamma: 0.0. Episode 60000/100000. Epsilon: 0.06309864018085258. Reward: -0.085135.\n",
      "Gamma: 0.0. Episode 70000/100000. Epsilon: 0.03981255044881961. Reward: -0.07926.\n",
      "Gamma: 0.0. Episode 80000/100000. Epsilon: 0.02512002110816935. Reward: -0.06915.\n",
      "Gamma: 0.0. Episode 90000/100000. Epsilon: 0.015849661811695913. Reward: -0.07477.\n",
      "Gamma: 0.0. Episode 100000/100000. Epsilon: 0.010000460527616143. Reward: -0.06741.\n",
      "Gamma: 0.25. Episode 10000/100000. Epsilon: 0.6309864018087341. Reward: -0.19977.\n",
      "Gamma: 0.25. Episode 20000/100000. Epsilon: 0.39812550448832373. Reward: -0.17536.\n",
      "Gamma: 0.25. Episode 30000/100000. Epsilon: 0.2512002110817752. Reward: -0.138615.\n",
      "Gamma: 0.25. Episode 40000/100000. Epsilon: 0.15849661811701005. Reward: -0.120275.\n",
      "Gamma: 0.25. Episode 50000/100000. Epsilon: 0.10000460527619258. Reward: -0.104845.\n",
      "Gamma: 0.25. Episode 60000/100000. Epsilon: 0.06309864018085258. Reward: -0.092175.\n",
      "Gamma: 0.25. Episode 70000/100000. Epsilon: 0.03981255044881961. Reward: -0.086535.\n",
      "Gamma: 0.25. Episode 80000/100000. Epsilon: 0.02512002110816935. Reward: -0.080685.\n",
      "Gamma: 0.25. Episode 90000/100000. Epsilon: 0.015849661811695913. Reward: -0.07336.\n",
      "Gamma: 0.25. Episode 100000/100000. Epsilon: 0.010000460527616143. Reward: -0.07718.\n",
      "Gamma: 0.5. Episode 10000/100000. Epsilon: 0.6309864018087341. Reward: -0.19492.\n",
      "Gamma: 0.5. Episode 20000/100000. Epsilon: 0.39812550448832373. Reward: -0.169255.\n",
      "Gamma: 0.5. Episode 30000/100000. Epsilon: 0.2512002110817752. Reward: -0.14225.\n",
      "Gamma: 0.5. Episode 40000/100000. Epsilon: 0.15849661811701005. Reward: -0.11825.\n",
      "Gamma: 0.5. Episode 50000/100000. Epsilon: 0.10000460527619258. Reward: -0.09855.\n",
      "Gamma: 0.5. Episode 60000/100000. Epsilon: 0.06309864018085258. Reward: -0.09912.\n",
      "Gamma: 0.5. Episode 70000/100000. Epsilon: 0.03981255044881961. Reward: -0.089035.\n",
      "Gamma: 0.5. Episode 80000/100000. Epsilon: 0.02512002110816935. Reward: -0.07862.\n",
      "Gamma: 0.5. Episode 90000/100000. Epsilon: 0.015849661811695913. Reward: -0.08007.\n",
      "Gamma: 0.5. Episode 100000/100000. Epsilon: 0.010000460527616143. Reward: -0.082495.\n",
      "Gamma: 0.75. Episode 10000/100000. Epsilon: 0.6309864018087341. Reward: -0.195395.\n",
      "Gamma: 0.75. Episode 20000/100000. Epsilon: 0.39812550448832373. Reward: -0.17308.\n",
      "Gamma: 0.75. Episode 30000/100000. Epsilon: 0.2512002110817752. Reward: -0.15155.\n",
      "Gamma: 0.75. Episode 40000/100000. Epsilon: 0.15849661811701005. Reward: -0.137965.\n",
      "Gamma: 0.75. Episode 50000/100000. Epsilon: 0.10000460527619258. Reward: -0.12491.\n",
      "Gamma: 0.75. Episode 60000/100000. Epsilon: 0.06309864018085258. Reward: -0.11947.\n",
      "Gamma: 0.75. Episode 70000/100000. Epsilon: 0.03981255044881961. Reward: -0.103485.\n",
      "Gamma: 0.75. Episode 80000/100000. Epsilon: 0.02512002110816935. Reward: -0.10012.\n",
      "Gamma: 0.75. Episode 90000/100000. Epsilon: 0.015849661811695913. Reward: -0.093245.\n",
      "Gamma: 0.75. Episode 100000/100000. Epsilon: 0.010000460527616143. Reward: -0.09.\n",
      "Gamma: 1.0. Episode 10000/100000. Epsilon: 0.6309864018087341. Reward: -0.217485.\n",
      "Gamma: 1.0. Episode 20000/100000. Epsilon: 0.39812550448832373. Reward: -0.19932.\n",
      "Gamma: 1.0. Episode 30000/100000. Epsilon: 0.2512002110817752. Reward: -0.17583.\n",
      "Gamma: 1.0. Episode 40000/100000. Epsilon: 0.15849661811701005. Reward: -0.15191.\n",
      "Gamma: 1.0. Episode 50000/100000. Epsilon: 0.10000460527619258. Reward: -0.135825.\n",
      "Gamma: 1.0. Episode 60000/100000. Epsilon: 0.06309864018085258. Reward: -0.13262.\n",
      "Gamma: 1.0. Episode 70000/100000. Epsilon: 0.03981255044881961. Reward: -0.12958.\n",
      "Gamma: 1.0. Episode 80000/100000. Epsilon: 0.02512002110816935. Reward: -0.119905.\n",
      "Gamma: 1.0. Episode 90000/100000. Epsilon: 0.015849661811695913. Reward: -0.119735.\n",
      "Gamma: 1.0. Episode 100000/100000. Epsilon: 0.010000460527616143. Reward: -0.11776.\n"
     ]
    },
    {
     "data": {
      "image/png": "[encoded data removed]",
      "text/plain": [
       "<Figure size 576x432 with 1 Axes>"
      ]
     },
     "metadata": {
      "needs_background": "light"
     },
     "output_type": "display_data"
    }
   ],
   "source": [
    "gamma_begin = 0.0\n",
    "gamma_end = 1.0\n",
    "n_episodes = 100000\n",
    "rewards = mc_control_plot(env=gym.make('Blackjack-v2', natural=True), n_episodes=n_episodes, n_episodes_test=n_episodes, gamma_begin=gamma_begin, gamma_end=gamma_end, eps_gen=eps_generator(eps_start=1.0, eps_min=0.01, decay=0.01**(1/n_episodes)))\n",
    "\n",
    "fig, ax = plt.subplots(1, figsize=(8, 6))\n",
    "fig.suptitle('Rewards', fontsize=15)\n",
    "for i in range(len(rewards)):\n",
    "    ax.plot(rewards[i], label=\"Gamma {:10.1f}\".format(gamma_begin + (gamma_end - gamma_begin) / 4 * i))\n",
    "plt.legend(loc=\"lower right\", title=\"Legend\", frameon=False)\n",
    "plt.show()"
   ]
  },
  {
   "cell_type": "code",
   "execution_count": 40,
   "metadata": {},
   "outputs": [
    {
     "name": "stdout",
     "output_type": "stream",
     "text": [
      "Gamma: 0.0. Episode 30000/300000. Epsilon: 0.6309670301067631. Reward: -0.13790833333333333.\n",
      "Gamma: 0.0. Episode 60000/300000. Epsilon: 0.39811328177011907. Reward: -0.09580666666666666.\n",
      "Gamma: 0.0. Episode 90000/300000. Epsilon: 0.25119249906759356. Reward: -0.06937166666666666.\n",
      "Gamma: 0.0. Episode 120000/300000. Epsilon: 0.15849175216479358. Reward: -0.054121666666666665.\n",
      "Gamma: 0.0. Episode 150000/300000. Epsilon: 0.10000153506776062. Reward: -0.045358333333333334.\n",
      "Gamma: 0.0. Episode 180000/300000. Epsilon: 0.0630967030102028. Reward: -0.03987333333333333.\n",
      "Gamma: 0.0. Episode 210000/300000. Epsilon: 0.03981132817671346. Reward: -0.04006333333333333.\n",
      "Gamma: 0.0. Episode 240000/300000. Epsilon: 0.02511924990657108. Reward: -0.034578333333333336.\n",
      "Gamma: 0.0. Episode 270000/300000. Epsilon: 0.015849175216360607. Reward: -0.029705.\n",
      "Gamma: 0.0. Episode 300000/300000. Epsilon: 0.010000153506701163. Reward: -0.031385.\n",
      "Gamma: 0.075. Episode 30000/300000. Epsilon: 0.6309670301067631. Reward: -0.15631666666666666.\n",
      "Gamma: 0.075. Episode 60000/300000. Epsilon: 0.39811328177011907. Reward: -0.104915.\n",
      "Gamma: 0.075. Episode 90000/300000. Epsilon: 0.25119249906759356. Reward: -0.07392.\n",
      "Gamma: 0.075. Episode 120000/300000. Epsilon: 0.15849175216479358. Reward: -0.06084333333333333.\n",
      "Gamma: 0.075. Episode 150000/300000. Epsilon: 0.10000153506776062. Reward: -0.051475.\n",
      "Gamma: 0.075. Episode 180000/300000. Epsilon: 0.0630967030102028. Reward: -0.04249833333333333.\n",
      "Gamma: 0.075. Episode 210000/300000. Epsilon: 0.03981132817671346. Reward: -0.03808.\n",
      "Gamma: 0.075. Episode 240000/300000. Epsilon: 0.02511924990657108. Reward: -0.03423.\n",
      "Gamma: 0.075. Episode 270000/300000. Epsilon: 0.015849175216360607. Reward: -0.03382.\n",
      "Gamma: 0.075. Episode 300000/300000. Epsilon: 0.010000153506701163. Reward: -0.030091666666666666.\n",
      "Gamma: 0.15. Episode 30000/300000. Epsilon: 0.6309670301067631. Reward: -0.15107166666666666.\n",
      "Gamma: 0.15. Episode 60000/300000. Epsilon: 0.39811328177011907. Reward: -0.09842166666666667.\n",
      "Gamma: 0.15. Episode 90000/300000. Epsilon: 0.25119249906759356. Reward: -0.07535666666666667.\n",
      "Gamma: 0.15. Episode 120000/300000. Epsilon: 0.15849175216479358. Reward: -0.060566666666666664.\n",
      "Gamma: 0.15. Episode 150000/300000. Epsilon: 0.10000153506776062. Reward: -0.05141.\n",
      "Gamma: 0.15. Episode 180000/300000. Epsilon: 0.0630967030102028. Reward: -0.044958333333333336.\n",
      "Gamma: 0.15. Episode 210000/300000. Epsilon: 0.03981132817671346. Reward: -0.04043833333333333.\n",
      "Gamma: 0.15. Episode 240000/300000. Epsilon: 0.02511924990657108. Reward: -0.037355.\n",
      "Gamma: 0.15. Episode 270000/300000. Epsilon: 0.015849175216360607. Reward: -0.03340666666666667.\n",
      "Gamma: 0.15. Episode 300000/300000. Epsilon: 0.010000153506701163. Reward: -0.0293.\n",
      "Gamma: 0.22499999999999998. Episode 30000/300000. Epsilon: 0.6309670301067631. Reward: -0.148745.\n",
      "Gamma: 0.22499999999999998. Episode 60000/300000. Epsilon: 0.39811328177011907. Reward: -0.10463.\n",
      "Gamma: 0.22499999999999998. Episode 90000/300000. Epsilon: 0.25119249906759356. Reward: -0.07558666666666666.\n",
      "Gamma: 0.22499999999999998. Episode 120000/300000. Epsilon: 0.15849175216479358. Reward: -0.05821.\n",
      "Gamma: 0.22499999999999998. Episode 150000/300000. Epsilon: 0.10000153506776062. Reward: -0.05108833333333333.\n",
      "Gamma: 0.22499999999999998. Episode 180000/300000. Epsilon: 0.0630967030102028. Reward: -0.04258666666666667.\n",
      "Gamma: 0.22499999999999998. Episode 210000/300000. Epsilon: 0.03981132817671346. Reward: -0.041806666666666666.\n",
      "Gamma: 0.22499999999999998. Episode 240000/300000. Epsilon: 0.02511924990657108. Reward: -0.03613333333333334.\n",
      "Gamma: 0.22499999999999998. Episode 270000/300000. Epsilon: 0.015849175216360607. Reward: -0.036083333333333335.\n",
      "Gamma: 0.22499999999999998. Episode 300000/300000. Epsilon: 0.010000153506701163. Reward: -0.032593333333333335.\n",
      "Gamma: 0.3. Episode 30000/300000. Epsilon: 0.6309670301067631. Reward: -0.14367333333333332.\n",
      "Gamma: 0.3. Episode 60000/300000. Epsilon: 0.39811328177011907. Reward: -0.10098833333333333.\n",
      "Gamma: 0.3. Episode 90000/300000. Epsilon: 0.25119249906759356. Reward: -0.079225.\n",
      "Gamma: 0.3. Episode 120000/300000. Epsilon: 0.15849175216479358. Reward: -0.06294333333333334.\n",
      "Gamma: 0.3. Episode 150000/300000. Epsilon: 0.10000153506776062. Reward: -0.055356666666666665.\n",
      "Gamma: 0.3. Episode 180000/300000. Epsilon: 0.0630967030102028. Reward: -0.04517.\n",
      "Gamma: 0.3. Episode 210000/300000. Epsilon: 0.03981132817671346. Reward: -0.03804166666666667.\n",
      "Gamma: 0.3. Episode 240000/300000. Epsilon: 0.02511924990657108. Reward: -0.039265.\n",
      "Gamma: 0.3. Episode 270000/300000. Epsilon: 0.015849175216360607. Reward: -0.038191666666666665.\n",
      "Gamma: 0.3. Episode 300000/300000. Epsilon: 0.010000153506701163. Reward: -0.03345.\n"
     ]
    },
    {
     "data": {
      "image/png": "[encoded data removed]",
      "text/plain": [
       "<Figure size 576x432 with 1 Axes>"
      ]
     },
     "metadata": {
      "needs_background": "light"
     },
     "output_type": "display_data"
    }
   ],
   "source": [
    "gamma_begin = 0.0\n",
    "gamma_end = 0.3\n",
    "n_episodes = 300000\n",
    "rewards = mc_control_plot(env=gym.make('Blackjack-v2', natural=True), n_episodes=n_episodes, n_episodes_test=n_episodes, gamma_begin=gamma_begin, gamma_end=gamma_end, eps_gen=eps_generator(eps_start=1.0, eps_min=0.01, decay=0.01**(1/n_episodes)))\n",
    "\n",
    "fig, ax = plt.subplots(1, figsize=(8, 6))\n",
    "fig.suptitle('Rewards', fontsize=15)\n",
    "for i in range(len(rewards)):\n",
    "    ax.plot(rewards[i], label=\"Gamma {:10.3f}\".format(gamma_begin + (gamma_end - gamma_begin) / 4 * i))\n",
    "plt.legend(loc=\"lower right\", title=\"Legend\", frameon=False)\n",
    "plt.show()"
   ]
  },
  {
   "cell_type": "markdown",
   "metadata": {},
   "source": [
    "## Часть четвёртая, опциональная\n",
    "Ну и напоследок ещё парочка опциональных заданий за дополнительные баллы.  \n",
    "Реализуйте поиск стратегии в блекджеке с известной моделью из первой части, решив уравнения Беллмана для V* или Q*. Для этого вам придётся сначала оценить параметры модели, т.е. вероятности переходов между состояниями.  \n",
    "Реализуйте вариант из второй или третьей части, в котором есть ещё возможность делать split: в случае, когда игроку пришли две одинаковые карты, он может разбить руку на две, внести ещё одну ставку и продолжать играть две руки сразу (как будто за двоих игроков). Скорее всего, обыграть казино получится только в варианте с разрешённым split’ом и подсчётом карт; если получится, это будет отличное завершение проекта!  \n"
   ]
  },
  {
   "cell_type": "markdown",
   "metadata": {},
   "source": [
    "Хочется таки обыграть казино. Давайте попробуем реализовать сплит. Но с этим есть ряд проблем... Если разрешить любое количество сплитов подряд, то размер состояния будет не фиксированный. Кроме того, сплит - редкая ситуация и чтобы обучиться играть со сплитом, придётся или сыграть слишком много партий, или создавать такие ситуации искусственно. Кроме того, множество действий будет меняться по ходу игры (сплит можно делать только в начале, а после сплита появляется действие \"взять карту во вторую руку\"). Нужно подумать, как бы это реализовать получше."
   ]
  },
  {
   "cell_type": "markdown",
   "metadata": {},
   "source": [
    "Можно ограничить количество сплитов. Давайте разрешим только один сплит. Попробуем по-честному сделать. Но как запретить неправильные действия? Они должны сами в процессе обучения стать невыгодными, если их просто игнорировать и оставлять прежнее состояние. Но кажется, это не всегда срабатывает. Можно попробовать наказывать за них при обучении, но в игре просто игнорировать. Так же можно предоставлять информацию о разрешённых действиях и выбирать только из них."
   ]
  },
  {
   "cell_type": "code",
   "execution_count": 206,
   "metadata": {},
   "outputs": [],
   "source": [
    "class BlackjackEnvSplit(gym.Env):\n",
    "    def __init__(self, natural=False):      \n",
    "        self.action_space = spaces.Discrete(6) # два действия с первой рукой, два действия со второй рукой, передача хода дилеру, сплит\n",
    "        self.observation_space = spaces.Tuple((\n",
    "            spaces.Discrete(32),\n",
    "            spaces.Discrete(11),\n",
    "            spaces.Discrete(2),\n",
    "            spaces.Discrete(32),\n",
    "            spaces.Discrete(11),\n",
    "            spaces.Discrete(2),\n",
    "            spaces.Box(-22.0, +22.0, shape=(1,1), dtype=np.float32)))\n",
    "        self.seed()\n",
    "        \n",
    "        # 1 = Ace, 2-10 = Number cards, Jack/Queen/King = 10\n",
    "        self.deck = []\n",
    "        self.card_counter = 0.0\n",
    "        self.card_points = {\n",
    "            1: -1,\n",
    "            2: 0.5,\n",
    "            3: 1,\n",
    "            4: 1,\n",
    "            5: 1.5,\n",
    "            6: 1,\n",
    "            7: 0.5,\n",
    "            8: 0,\n",
    "            9: -0.5,\n",
    "            10: -1,\n",
    "        }\n",
    "\n",
    "        # Flag to payout 1.5 on a \"natural\" blackjack win, like casino rules\n",
    "        # Ref: http://www.bicyclecards.com/how-to-play/blackjack/\n",
    "        self.natural = natural\n",
    "        # Start the first game\n",
    "        self.reset()\n",
    "    \n",
    "    def cmp(self, a, b):\n",
    "        return float(a > b) - float(a < b)\n",
    "\n",
    "    def draw_card(self, np_random):\n",
    "        card = self.deck.pop(np_random.randint(0, len(self.deck)))\n",
    "        self.card_counter += self.card_points[card]\n",
    "        return int(card)\n",
    "\n",
    "\n",
    "    def draw_hand(self, np_random):\n",
    "        return [self.draw_card(np_random), self.draw_card(np_random)]\n",
    "\n",
    "\n",
    "    def usable_ace(self, hand):  # Does this hand have a usable ace?\n",
    "        return 1 in hand and sum(hand) + 10 <= 21\n",
    "\n",
    "\n",
    "    def sum_hand(self, hand):  # Return current hand total\n",
    "        if self.usable_ace(hand):\n",
    "            return sum(hand) + 10\n",
    "        return sum(hand)\n",
    "\n",
    "\n",
    "    def is_bust(self, hand):  # Is this hand a bust?\n",
    "        return self.sum_hand(hand) > 21\n",
    "\n",
    "\n",
    "    def score(self, hand):  # What is the score of this hand (0 if bust)\n",
    "        return 0 if self.is_bust(hand) else self.sum_hand(hand)\n",
    "\n",
    "\n",
    "    def is_natural(self, hand):  # Is this hand a natural blackjack?\n",
    "        return sorted(hand) == [1, 10]\n",
    "\n",
    "\n",
    "    def seed(self, seed=None):\n",
    "        self.np_random, seed = seeding.np_random(seed)\n",
    "        return [seed]\n",
    "    \n",
    "    def is_available_action(self, action):\n",
    "        if action == 5:\n",
    "            return len(self.player) == 2 and len(self.second_hand) == 0 and self.player[0] == self.player[1]\n",
    "        elif action == 4:\n",
    "            return True\n",
    "        elif action == 2 or action == 3:\n",
    "            return len(self.second_hand) != 0 and not self.is_bust(self.second_hand) and self.doubling_coefs[1] == 1.0\n",
    "        else:\n",
    "            return len(self.player) != 0 and not self.is_bust(self.player) and self.doubling_coefs[0] == 1.0\n",
    "    \n",
    "    def random_available_action(self):\n",
    "        action = self.action_space.sample()\n",
    "        while not self.is_available_action(action):\n",
    "            action = self.action_space.sample()\n",
    "        return action\n",
    "\n",
    "    def step(self, action):\n",
    "        assert self.action_space.contains(action)\n",
    "        if action == 5:\n",
    "            # split\n",
    "            if len(self.player) == 2 and len(self.second_hand) == 0 and self.player[0] == self.player[1]:\n",
    "                self.second_hand.append(self.player.pop(1))\n",
    "                self.player.append(self.draw_card(self.np_random))\n",
    "                self.second_hand.append(self.draw_card(self.np_random))\n",
    "            done = (False, False)\n",
    "            reward = 0.0\n",
    "        elif action == 4:\n",
    "            # передать ход дилеру, больше карт не брать\n",
    "            done = (True, True)\n",
    "            reward = 0.0\n",
    "            while self.sum_hand(self.dealer) < 17:\n",
    "                self.dealer.append(self.draw_card(self.np_random))\n",
    "            if self.is_bust(self.player):\n",
    "                reward -= self.doubling_coefs[0]\n",
    "            elif self.natural and self.is_natural(self.player):\n",
    "                assert self.doubling_coefs[0] == 1.0\n",
    "                reward += self.cmp(self.score(self.player), self.score(self.dealer)) * 1.5\n",
    "            else:\n",
    "                reward += self.cmp(self.score(self.player), self.score(self.dealer)) * self.doubling_coefs[0]\n",
    "            if len(self.second_hand) != 0:\n",
    "                if self.is_bust(self.second_hand):\n",
    "                    reward -= self.doubling_coefs[1]\n",
    "                elif self.natural and self.is_natural(self.second_hand):\n",
    "                    assert self.doubling_coefs[1] == 1.0\n",
    "                    reward += self.cmp(self.score(self.second_hand), self.score(self.dealer)) * 1.5\n",
    "                else:\n",
    "                    reward += self.cmp(self.score(self.second_hand), self.score(self.dealer)) * self.doubling_coefs[1]\n",
    "        else:\n",
    "            hand_no = action // 2\n",
    "            reward = 0.0\n",
    "            done = (self.is_bust(self.player) or self.doubling_coefs[0] == 2.0, self.is_bust(self.second_hand) or self.doubling_coefs[1] == 2.0 or len(self.second_hand) == 0)\n",
    "            if hand_no == 0 or (hand_no == 1 and len(self.second_hand) != 0):\n",
    "                storage = None\n",
    "                if hand_no == 0:\n",
    "                    storage = self.player\n",
    "                else:\n",
    "                    storage = self.second_hand\n",
    "                action_no = action % 2\n",
    "                if action_no == 0:  # hit: add a card to players hand and return\n",
    "                    reward = 0.0\n",
    "                    if (not self.is_bust(storage)) and self.doubling_coefs[hand_no] == 1.0:\n",
    "                        storage.append(self.draw_card(self.np_random))\n",
    "                    done = (self.is_bust(self.player) or self.doubling_coefs[0] == 2.0, self.is_bust(self.second_hand) or self.doubling_coefs[1] == 2.0 or len(self.second_hand) == 0)\n",
    "                    if done[0] == done[1] == True:\n",
    "                        if not (self.is_bust(self.player) == self.is_bust(self.second_hand) == True):\n",
    "                            while self.sum_hand(self.dealer) < 17:\n",
    "                                self.dealer.append(self.draw_card(self.np_random))\n",
    "                        if self.is_bust(self.player):\n",
    "                            reward -= self.doubling_coefs[0]\n",
    "                        elif self.natural and self.is_natural(self.player):\n",
    "                            assert self.doubling_coefs[0] == 1.0\n",
    "                            reward += self.cmp(self.score(self.player), self.score(self.dealer)) * 1.5\n",
    "                        else:\n",
    "                            reward += self.cmp(self.score(self.player), self.score(self.dealer)) * self.doubling_coefs[0]\n",
    "                        if len(self.second_hand) != 0:\n",
    "                            if self.is_bust(self.second_hand):\n",
    "                                reward -= self.doubling_coefs[1]\n",
    "                            elif self.natural and self.is_natural(self.second_hand):\n",
    "                                assert self.doubling_coefs[1] == 1.0\n",
    "                                reward += self.cmp(self.score(self.second_hand), self.score(self.dealer)) * 1.5\n",
    "                            else:\n",
    "                                reward += self.cmp(self.score(self.second_hand), self.score(self.dealer)) * self.doubling_coefs[1]\n",
    "                elif action_no == 1:\n",
    "                    storage.append(self.draw_card(self.np_random))\n",
    "                    self.doubling_coefs[hand_no] = 2.0\n",
    "                    reward = 0.0\n",
    "                    done = (self.is_bust(self.player) or self.doubling_coefs[0] == 2.0, self.is_bust(self.second_hand) or self.doubling_coefs[1] == 2.0 or len(self.second_hand) == 0)\n",
    "                    if done[0] == done[1] == True:\n",
    "                        if not (self.is_bust(self.player) == self.is_bust(self.second_hand) == True):\n",
    "                            while self.sum_hand(self.dealer) < 17:\n",
    "                                self.dealer.append(self.draw_card(self.np_random))\n",
    "                        if self.is_bust(self.player):\n",
    "                            reward -= self.doubling_coefs[0]\n",
    "                        elif self.natural and self.is_natural(self.player):\n",
    "                            assert self.doubling_coefs[0] == 1.0\n",
    "                            reward += self.cmp(self.score(self.player), self.score(self.dealer)) * 1.5\n",
    "                        else:\n",
    "                            reward += self.cmp(self.score(self.player), self.score(self.dealer)) * self.doubling_coefs[0]\n",
    "                        if len(self.second_hand) != 0:\n",
    "                            if self.is_bust(self.second_hand):\n",
    "                                reward -= self.doubling_coefs[1]\n",
    "                            elif self.natural and self.is_natural(self.second_hand):\n",
    "                                assert self.doubling_coefs[1] == 1.0\n",
    "                                reward += self.cmp(self.score(self.second_hand), self.score(self.dealer)) * 1.5\n",
    "                            else:\n",
    "                                reward += self.cmp(self.score(self.second_hand), self.score(self.dealer)) * self.doubling_coefs[1]\n",
    "        return self._get_obs(), reward, done, {}\n",
    "\n",
    "    def _get_obs(self):\n",
    "        return (self.sum_hand(self.player), self.sum_hand(self.second_hand), self.dealer[0], self.usable_ace(self.player), self.usable_ace(self.second_hand), self.card_counter)\n",
    "\n",
    "    def reset(self):\n",
    "        if len(self.deck) < 20:\n",
    "            # 1 = Ace, 2-10 = Number cards, Jack/Queen/King = 10\n",
    "            self.deck = [1, 2, 3, 4, 5, 6, 7, 8, 9, 10, 10, 10, 10] * 4\n",
    "            self.card_counter = 0.0\n",
    "        \n",
    "        self.dealer = self.draw_hand(self.np_random)\n",
    "        self.player = self.draw_hand(self.np_random)\n",
    "        self.second_hand = []\n",
    "        self.doubling_coefs = [1.0, 1.0]\n",
    "        return self._get_obs()\n",
    "\n",
    "gym.envs.toy_text.blackjack.BlackjackEnvSplit = BlackjackEnvSplit\n",
    "    \n",
    "if 'Blackjack-v3' in registry.env_specs:\n",
    "    del registry.env_specs['Blackjack-v3']\n",
    "    \n",
    "register(\n",
    "    id='Blackjack-v3',\n",
    "    entry_point='gym.envs.toy_text.blackjack:BlackjackEnvSplit',\n",
    ")"
   ]
  },
  {
   "cell_type": "markdown",
   "metadata": {},
   "source": [
    "Нужно также исправить код игрового процесса и эпсилон-жадной стратегии:"
   ]
  },
  {
   "cell_type": "code",
   "execution_count": 207,
   "metadata": {},
   "outputs": [],
   "source": [
    "def play_blackjack_with_split(strategy, env=gym.make('Blackjack-v3', natural=True), verbose=False, seed=None, action_names=[\"Больше не берём.\", \"Берём карту.\"], *args, **kwargs): \n",
    "    \"\"\"Запускает игру для указанного окружения по выбранной стратегии. \n",
    "    Записывает и возвращает историю игры: состояния, действия, вознаграждения.\n",
    "    Можно напечать на экран ход игры.\n",
    "    \n",
    "    Аргументы:\n",
    "    strategy -- Стратегия игры.\n",
    "    env -- окружение для игры.\n",
    "    verbose -- Нужно ли печатать ход игры?\n",
    "    seed -- Начальное состояние генераторов случайных чисел для окружения.\n",
    "    action_names -- Названия действий для печати хода игры.\n",
    "    Остальные аргументы будут переданы в стратегию.\n",
    "    \"\"\"\n",
    "    states, actions, rewards = [], [], []  # В эти списки запишем историю игры.\n",
    "    if seed is not None:  # Инициализируем генератор случайных чисел в окружении.\n",
    "        env.seed(seed)\n",
    "        env.action_space.seed(seed)\n",
    "    initial = env.reset()  # Начинаем новую игру\n",
    "    if verbose: print(\"Начальная раздача: \", initial)\n",
    "    while True:\n",
    "        states.append(env._get_obs())\n",
    "        \n",
    "        action = strategy(env, *args, **kwargs)  # Выбираем действие в соответствии со стратегией.\n",
    "        actions.append(action)\n",
    "        if verbose:\n",
    "            print(action_names[action])\n",
    "        \n",
    "        new_state, reward, done, info = env.step(action)  # Делаем ход.\n",
    "        rewards.append(reward)\n",
    "        \n",
    "        if verbose: print(new_state, reward, done, info)\n",
    "        if done == (True, True):  # Игра окончена\n",
    "            if verbose:\n",
    "                if reward > 0:\n",
    "                    print(\"Победа.\")\n",
    "                elif reward < 0:\n",
    "                    print(\"Поражение.\")\n",
    "                else:\n",
    "                    print(\"Ничья.\")\n",
    "            break\n",
    "    env.close()\n",
    "    return (states, actions, rewards)"
   ]
  },
  {
   "cell_type": "code",
   "execution_count": 208,
   "metadata": {},
   "outputs": [],
   "source": [
    "def eps_greedy_strategy(env, epsilon, Q):\n",
    "    \"\"\"Эпсилон-жадная стратегия.\n",
    "    С вероятностью эпсилон выбирает случайное действие, иначе - наиболее выгодное действие.\n",
    "    \n",
    "    Аргументы:\n",
    "    env -- Окружение.\n",
    "    epsilon -- Вероятность случайного действия.\n",
    "    Q -- Выгода от действий в каждом состоянии dict: key - state, value - list values of actions.\n",
    "    \"\"\"\n",
    "    state = env._get_obs()\n",
    "    if random.random() > epsilon:\n",
    "        available = [(i, v) for i, v in enumerate(Q[state]) if env.is_available_action(i)]\n",
    "        return max(available, key=lambda x: x[1])[0]\n",
    "    else:\n",
    "        return env.random_available_action()"
   ]
  },
  {
   "cell_type": "code",
   "execution_count": 209,
   "metadata": {},
   "outputs": [],
   "source": [
    "random_strategy = lambda env: eps_greedy_strategy(env, 1.0, None)"
   ]
  },
  {
   "cell_type": "markdown",
   "metadata": {},
   "source": [
    "Проверим, как это работает:"
   ]
  },
  {
   "cell_type": "code",
   "execution_count": 210,
   "metadata": {
    "scrolled": true
   },
   "outputs": [
    {
     "name": "stdout",
     "output_type": "stream",
     "text": [
      "Начальная раздача:  (13, 0, 4, True, False, -3.0)\n",
      "Больше не берём карт, передаём ход дилеру\n",
      "(13, 0, 4, True, False, -4.0) -1.0 (True, True) {}\n",
      "Поражение.\n",
      "Осталось карт в колоде: 43\n",
      "Значение счётчика карт по системе \"Половинки\": -4.0\n",
      "=============================================\n",
      "Начальная раздача:  (14, 0, 3, False, False, -1.5)\n",
      "Берём одну карту в левую руку и удваиваем ставку.\n",
      "(21, 0, 3, False, False, 0.0) 2.0 (True, True) {}\n",
      "Победа.\n",
      "Осталось карт в колоде: 36\n",
      "Значение счётчика карт по системе \"Половинки\": 0.0\n",
      "=============================================\n",
      "Начальная раздача:  (9, 0, 6, False, False, 3.0)\n",
      "Больше не берём карт, передаём ход дилеру\n",
      "(9, 0, 6, False, False, 2.0) 1.0 (True, True) {}\n",
      "Победа.\n",
      "Осталось карт в колоде: 31\n",
      "Значение счётчика карт по системе \"Половинки\": 2.0\n",
      "=============================================\n",
      "Начальная раздача:  (13, 0, 8, False, False, 1.5)\n",
      "Берём карту в левую руку.\n",
      "(23, 0, 8, False, False, 0.5) -1.0 (True, True) {}\n",
      "Поражение.\n",
      "Осталось карт в колоде: 26\n",
      "Значение счётчика карт по системе \"Половинки\": 0.5\n",
      "=============================================\n",
      "Начальная раздача:  (16, 0, 8, False, False, -0.5)\n",
      "Берём карту в левую руку.\n",
      "(20, 0, 8, False, False, 0.5) 0.0 (False, True) {}\n",
      "Берём карту в левую руку.\n",
      "(26, 0, 8, False, False, 1.5) -1.0 (True, True) {}\n",
      "Поражение.\n",
      "Осталось карт в колоде: 20\n",
      "Значение счётчика карт по системе \"Половинки\": 1.5\n",
      "=============================================\n",
      "Начальная раздача:  (8, 0, 7, False, False, 3.0)\n",
      "Берём одну карту в левую руку и удваиваем ставку.\n",
      "(18, 0, 7, False, False, 2.5) 0.0 (True, True) {}\n",
      "Ничья.\n",
      "Осталось карт в колоде: 14\n",
      "Значение счётчика карт по системе \"Половинки\": 2.5\n",
      "=============================================\n",
      "Начальная раздача:  (20, 0, 8, False, False, -0.5)\n",
      "Берём карту в левую руку.\n",
      "(26, 0, 8, False, False, -0.5) -1.0 (True, True) {}\n",
      "Поражение.\n",
      "Осталось карт в колоде: 46\n",
      "Значение счётчика карт по системе \"Половинки\": -0.5\n",
      "=============================================\n",
      "Начальная раздача:  (12, 0, 10, False, False, -3.0)\n",
      "Больше не берём карт, передаём ход дилеру\n",
      "(12, 0, 10, False, False, -3.0) -1.0 (True, True) {}\n",
      "Поражение.\n",
      "Осталось карт в колоде: 42\n",
      "Значение счётчика карт по системе \"Половинки\": -3.0\n",
      "=============================================\n",
      "Начальная раздача:  (11, 0, 6, False, False, -0.5)\n",
      "Берём карту в левую руку.\n",
      "(17, 0, 6, False, False, 0.5) 0.0 (False, True) {}\n",
      "Больше не берём карт, передаём ход дилеру\n",
      "(17, 0, 6, False, False, -0.5) 1.0 (True, True) {}\n",
      "Победа.\n",
      "Осталось карт в колоде: 36\n",
      "Значение счётчика карт по системе \"Половинки\": -0.5\n",
      "=============================================\n",
      "Начальная раздача:  (14, 0, 3, False, False, 1.0)\n",
      "Больше не берём карт, передаём ход дилеру\n",
      "(14, 0, 3, False, False, 1.0) -1.0 (True, True) {}\n",
      "Поражение.\n",
      "Осталось карт в колоде: 30\n",
      "Значение счётчика карт по системе \"Половинки\": 1.0\n",
      "=============================================\n"
     ]
    }
   ],
   "source": [
    "env = gym.make(\"Blackjack-v3\", natural=True)\n",
    "for i in range(10):\n",
    "    play_blackjack_with_split(env=env, strategy=random_strategy, verbose=True, action_names=[\"Берём карту в левую руку.\", \"Берём одну карту в левую руку и удваиваем ставку.\", \"Берём карту в правую руку.\", \"Берём одну карту в правую руку и удваиваем ставку.\", \"Больше не берём карт, передаём ход дилеру\", \"Сплит. Играем в две руки.\"])\n",
    "    print(\"Осталось карт в колоде: {}\".format(len(env.deck)))\n",
    "    print(\"Значение счётчика карт по системе \\\"Половинки\\\": {}\".format(env.card_counter))\n",
    "    print(\"=============================================\")"
   ]
  },
  {
   "cell_type": "markdown",
   "metadata": {},
   "source": [
    "Посмотрим, какой выигрыш будет при выборе случайных действий:"
   ]
  },
  {
   "cell_type": "code",
   "execution_count": 167,
   "metadata": {
    "scrolled": true
   },
   "outputs": [
    {
     "name": "stdout",
     "output_type": "stream",
     "text": [
      "Episode 100000/1000000.\n",
      "Episode 200000/1000000.\n",
      "Episode 300000/1000000.\n",
      "Episode 400000/1000000.\n",
      "Episode 500000/1000000.\n",
      "Episode 600000/1000000.\n",
      "Episode 700000/1000000.\n",
      "Episode 800000/1000000.\n",
      "Episode 900000/1000000.\n",
      "Episode 1000000/1000000.\n",
      "-0.5696725\n"
     ]
    }
   ],
   "source": [
    "print(average_reward(strategy=random_strategy, env=gym.make(\"Blackjack-v3\", natural=True), n_episodes=1000000, verbose=True, play_function=play_blackjack_with_split))"
   ]
  },
  {
   "cell_type": "markdown",
   "metadata": {},
   "source": [
    "Количество состояний теперь стало значительно больше, чем раньше, поэтому увеличим количество итераций для обучения и подсчёта среднего."
   ]
  },
  {
   "cell_type": "code",
   "execution_count": 212,
   "metadata": {},
   "outputs": [
    {
     "name": "stdout",
     "output_type": "stream",
     "text": [
      "Episode 5000000/50000000. Epsilon: 0.6309574026424183.\n",
      "Episode 10000000/50000000. Epsilon: 0.3981072072821964.\n",
      "Episode 15000000/50000000. Epsilon: 0.25118866634463166.\n",
      "Episode 20000000/50000000. Epsilon: 0.15848933389261122.\n",
      "Episode 25000000/50000000. Epsilon: 0.10000000924904832.\n",
      "Episode 30000000/50000000. Epsilon: 0.06309574028866546.\n",
      "Episode 35000000/50000000. Epsilon: 0.03981072074363022.\n",
      "Episode 40000000/50000000. Epsilon: 0.025118866644189303.\n",
      "Episode 45000000/50000000. Epsilon: 0.015848933395397762.\n",
      "Episode 50000000/50000000. Epsilon: 0.010000000928778537.\n",
      "Episode 5000000/50000000.\n",
      "Episode 10000000/50000000.\n",
      "Episode 15000000/50000000.\n",
      "Episode 20000000/50000000.\n",
      "Episode 25000000/50000000.\n",
      "Episode 30000000/50000000.\n",
      "Episode 35000000/50000000.\n",
      "Episode 40000000/50000000.\n",
      "Episode 45000000/50000000.\n",
      "Episode 50000000/50000000.\n",
      "-0.00734787\n",
      "CPU times: user 2h 12min 41s, sys: 13.2 s, total: 2h 12min 54s\n",
      "Wall time: 2h 14min 22s\n"
     ]
    }
   ],
   "source": [
    "%%time\n",
    "n_episodes = 50000000\n",
    "best_policy, Q_for_best_policy = mc_control_fast(env=gym.make('Blackjack-v3', natural=True), n_episodes=n_episodes, gamma=0.2, eps_gen=eps_generator(eps_start=1.0, eps_min=0.01, decay=0.01**(1/n_episodes)), play_function=play_blackjack_with_split)\n",
    "print(average_reward(strategy=best_policy, env=gym.make(\"Blackjack-v3\", natural=True), n_episodes=n_episodes, Q=Q_for_best_policy, verbose=True, play_function=play_blackjack_with_split))"
   ]
  },
  {
   "cell_type": "markdown",
   "metadata": {},
   "source": [
    "Выйти в плюс так и не получилось. Возможно, если поподбирать гамму, то можно добиться результата лучше, но на этом я остановлюсь. В блэкджек играть не стоит )"
   ]
  },
  {
   "cell_type": "code",
   "execution_count": null,
   "metadata": {},
   "outputs": [],
   "source": []
  }
 ],
 "metadata": {
  "kernelspec": {
   "display_name": "Python 3",
   "language": "python",
   "name": "python3"
  },
  "language_info": {
   "codemirror_mode": {
    "name": "ipython",
    "version": 3
   },
   "file_extension": ".py",
   "mimetype": "text/x-python",
   "name": "python",
   "nbconvert_exporter": "python",
   "pygments_lexer": "ipython3",
   "version": "3.7.4"
  }
 },
 "nbformat": 4,
 "nbformat_minor": 2
}
